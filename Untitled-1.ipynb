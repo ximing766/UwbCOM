{
 "cells": [
  {
   "cell_type": "code",
   "execution_count": null,
   "metadata": {},
   "outputs": [],
   "source": []
  },
  {
   "cell_type": "code",
   "execution_count": 1,
   "metadata": {},
   "outputs": [
    {
     "data": {
      "image/png": "[encoded data removed]",
      "text/plain": [
       "<Figure size 640x480 with 1 Axes>"
      ]
     },
     "metadata": {},
     "output_type": "display_data"
    }
   ],
   "source": [
    "import matplotlib.pyplot as plt\n",
    "import numpy as np\n",
    "import matplotlib.animation as animation\n",
    "import matplotlib.patches as patches\n",
    "\n",
    "# 创建数据\n",
    "theta = np.linspace((np.pi*3/2), 2 * np.pi , 100)\n",
    "radius = 2.0  # uwb有效区半径，初始值为电梯深度\n",
    "lift_height = 3.0  # 电梯高度,有效半径最大值\n",
    "\n",
    "# 创建图表\n",
    "fig, ax = plt.subplots(subplot_kw={'aspect': 'equal'})\n",
    "ax.set_xlim(-1, 5)\n",
    "ax.set_ylim(-1, 5)\n",
    "line, = ax.plot(radius * np.cos(theta), 3 + radius * np.sin(theta),'pink')\n",
    "line1, = ax.plot([2, radius * np.cos(theta[-1])], [3, 3 + radius * np.sin(theta[-1])], 'r--')\n",
    "\n",
    "# 添加矩形\n",
    "rect = patches.Rectangle((0, 0), 2, 3, linewidth=1, edgecolor='b', facecolor='none')\n",
    "ax.add_patch(rect)\n",
    "\n",
    "# 添加多边形补丁\n",
    "polygon = patches.Polygon([[0, 0], [2, 0], [2, 3], [0, 3]], closed=True, color='lightblue')\n",
    "ax.add_patch(polygon)\n",
    "\n",
    "# 更新函数\n",
    "def update(num, theta, line, line1, polygon):\n",
    "    r = radius + num / 100.0  # 更新半径\n",
    "    x_data = r * np.cos(theta)\n",
    "    y_data = 3 + r * np.sin(theta)\n",
    "    line.set_data(x_data, y_data)\n",
    "    line1.set_data([2, x_data[-1]], [3, y_data[-1]])\n",
    "    \n",
    "    # 计算弧线与矩形的交点\n",
    "    intersection_x = x_data[-1]\n",
    "    intersection_y = y_data[-1]\n",
    "    \n",
    "    # 更新多边形补丁的顶点\n",
    "    polygon.set_xy([[0, 0], [2, 0], [2, 3], [intersection_x, intersection_y], [0, 3]])\n",
    "    \n",
    "    return line, line1, polygon\n",
    "\n",
    "# 创建动画\n",
    "ani = animation.FuncAnimation(fig, update, frames=100, fargs=[theta, line, line1, polygon], interval=50, blit=True)\n",
    "plt.show()"
   ]
  }
 ],
 "metadata": {
  "kernelspec": {
   "display_name": "myenv",
   "language": "python",
   "name": "python3"
  },
  "language_info": {
   "codemirror_mode": {
    "name": "ipython",
    "version": 3
   },
   "file_extension": ".py",
   "mimetype": "text/x-python",
   "name": "python",
   "nbconvert_exporter": "python",
   "pygments_lexer": "ipython3",
   "version": "3.8.19"
  }
 },
 "nbformat": 4,
 "nbformat_minor": 2
}
