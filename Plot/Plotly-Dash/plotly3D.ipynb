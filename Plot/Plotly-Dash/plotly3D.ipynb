{
 "cells": [
  {
   "cell_type": "code",
   "execution_count": 4,
   "metadata": {},
   "outputs": [],
   "source": [
    "import plotly.graph_objects as go\n",
    "import numpy as np"
   ]
  },
  {
   "cell_type": "code",
   "execution_count": 5,
   "metadata": {},
   "outputs": [],
   "source": [
    "def draw_sphere(radius, center):\n",
    "\n",
    "    theta = np.linspace(0, 2 * np.pi, 100)\n",
    "    phi = np.linspace(0, np.pi, 100)\n",
    "    theta, phi = np.meshgrid(theta, phi)\n",
    "    \n",
    "    x = radius * np.sin(phi) * np.cos(theta) + center[0]\n",
    "    y = radius * np.sin(phi) * np.sin(theta) + center[1]\n",
    "    z = radius * np.cos(phi) + center[2]\n",
    "    \n",
    "    return x,y,z\n"
   ]
  },
  {
   "cell_type": "code",
   "execution_count": 6,
   "metadata": {},
   "outputs": [
    {
     "ename": "ModuleNotFoundError",
     "evalue": "No module named 'plotly.io._renderers'",
     "output_type": "error",
     "traceback": [
      "\u001b[1;31m---------------------------------------------------------------------------\u001b[0m",
      "\u001b[1;31mModuleNotFoundError\u001b[0m                       Traceback (most recent call last)",
      "\u001b[1;32m~\\AppData\\Local\\Temp\\ipykernel_9548\\2906046588.py\u001b[0m in \u001b[0;36m<cell line: 39>\u001b[1;34m()\u001b[0m\n\u001b[0;32m     37\u001b[0m     \u001b[0mmargin\u001b[0m\u001b[1;33m=\u001b[0m\u001b[0mdict\u001b[0m\u001b[1;33m(\u001b[0m\u001b[0mr\u001b[0m\u001b[1;33m=\u001b[0m\u001b[1;36m20\u001b[0m\u001b[1;33m,\u001b[0m \u001b[0ml\u001b[0m\u001b[1;33m=\u001b[0m\u001b[1;36m10\u001b[0m\u001b[1;33m,\u001b[0m \u001b[0mb\u001b[0m\u001b[1;33m=\u001b[0m\u001b[1;36m10\u001b[0m\u001b[1;33m,\u001b[0m \u001b[0mt\u001b[0m\u001b[1;33m=\u001b[0m\u001b[1;36m10\u001b[0m\u001b[1;33m)\u001b[0m\u001b[1;33m\u001b[0m\u001b[1;33m\u001b[0m\u001b[0m\n\u001b[0;32m     38\u001b[0m )\n\u001b[1;32m---> 39\u001b[1;33m \u001b[0mfig\u001b[0m\u001b[1;33m.\u001b[0m\u001b[0mshow\u001b[0m\u001b[1;33m(\u001b[0m\u001b[1;33m)\u001b[0m\u001b[1;33m\u001b[0m\u001b[1;33m\u001b[0m\u001b[0m\n\u001b[0m\u001b[0;32m     40\u001b[0m \u001b[1;33m\u001b[0m\u001b[0m\n\u001b[0;32m     41\u001b[0m \u001b[1;31m# fig.write_html(\"3Dplot.html\")\u001b[0m\u001b[1;33m\u001b[0m\u001b[1;33m\u001b[0m\u001b[1;33m\u001b[0m\u001b[0m\n",
      "\u001b[1;32md:\\ISoftware\\anaconda\\router\\envs\\myenv\\lib\\site-packages\\plotly\\basedatatypes.py\u001b[0m in \u001b[0;36mshow\u001b[1;34m(self, *args, **kwargs)\u001b[0m\n",
      "\u001b[1;32md:\\ISoftware\\anaconda\\router\\envs\\myenv\\lib\\site-packages\\_plotly_utils\\importers.py\u001b[0m in \u001b[0;36m__getattr__\u001b[1;34m(import_name)\u001b[0m\n",
      "\u001b[1;32md:\\ISoftware\\anaconda\\router\\envs\\myenv\\lib\\importlib\\__init__.py\u001b[0m in \u001b[0;36mimport_module\u001b[1;34m(name, package)\u001b[0m\n\u001b[0;32m    125\u001b[0m                 \u001b[1;32mbreak\u001b[0m\u001b[1;33m\u001b[0m\u001b[1;33m\u001b[0m\u001b[0m\n\u001b[0;32m    126\u001b[0m             \u001b[0mlevel\u001b[0m \u001b[1;33m+=\u001b[0m \u001b[1;36m1\u001b[0m\u001b[1;33m\u001b[0m\u001b[1;33m\u001b[0m\u001b[0m\n\u001b[1;32m--> 127\u001b[1;33m     \u001b[1;32mreturn\u001b[0m \u001b[0m_bootstrap\u001b[0m\u001b[1;33m.\u001b[0m\u001b[0m_gcd_import\u001b[0m\u001b[1;33m(\u001b[0m\u001b[0mname\u001b[0m\u001b[1;33m[\u001b[0m\u001b[0mlevel\u001b[0m\u001b[1;33m:\u001b[0m\u001b[1;33m]\u001b[0m\u001b[1;33m,\u001b[0m \u001b[0mpackage\u001b[0m\u001b[1;33m,\u001b[0m \u001b[0mlevel\u001b[0m\u001b[1;33m)\u001b[0m\u001b[1;33m\u001b[0m\u001b[1;33m\u001b[0m\u001b[0m\n\u001b[0m\u001b[0;32m    128\u001b[0m \u001b[1;33m\u001b[0m\u001b[0m\n\u001b[0;32m    129\u001b[0m \u001b[1;33m\u001b[0m\u001b[0m\n",
      "\u001b[1;32md:\\ISoftware\\anaconda\\router\\envs\\myenv\\lib\\importlib\\_bootstrap.py\u001b[0m in \u001b[0;36m_gcd_import\u001b[1;34m(name, package, level)\u001b[0m\n",
      "\u001b[1;32md:\\ISoftware\\anaconda\\router\\envs\\myenv\\lib\\importlib\\_bootstrap.py\u001b[0m in \u001b[0;36m_find_and_load\u001b[1;34m(name, import_)\u001b[0m\n",
      "\u001b[1;32md:\\ISoftware\\anaconda\\router\\envs\\myenv\\lib\\importlib\\_bootstrap.py\u001b[0m in \u001b[0;36m_find_and_load_unlocked\u001b[1;34m(name, import_)\u001b[0m\n",
      "\u001b[1;31mModuleNotFoundError\u001b[0m: No module named 'plotly.io._renderers'"
     ]
    }
   ],
   "source": [
    "sphere1_x,sphere1_y,sphere1_z = draw_sphere(30, [-25,0,0])\n",
    "sphere2_x,sphere2_y,sphere2_z = draw_sphere(30, [25,0,0])\n",
    "sphere3_x,sphere3_y,sphere3_z = draw_sphere(30, [-25,0,25])\n",
    "\n",
    "fig = go.Figure()\n",
    "\n",
    "fig.add_trace(go.Surface(\n",
    "    x=sphere1_x,\n",
    "    y=sphere1_y,\n",
    "    z=sphere1_z,\n",
    "    opacity=0.5,\n",
    "    # colorscale='Viridis',\n",
    "))\n",
    "fig.add_trace(go.Surface(x=sphere2_x,y=sphere2_y,z=sphere2_z,opacity=0.5))\n",
    "fig.add_trace(go.Surface(x=sphere3_x,y=sphere3_y,z=sphere3_z,opacity=0.5))\n",
    "fig.add_trace(go.Scatter3d(\n",
    "        x=[-25, 25, -25],  \n",
    "        y=[0, 0, 0],      \n",
    "        z=[0, 0, 25],      \n",
    "        mode='markers',   \n",
    "        marker=dict(size=6,color='pink',opacity=1)\n",
    "    )\n",
    ")\n",
    "fig.update_layout(\n",
    "    scene = dict(\n",
    "        xaxis = dict(nticks=4, range=[-100,100], title = dict(text=\"x\", font=dict(size=18)),),\n",
    "        yaxis = dict(nticks=4, range=[-100,100], title = dict(text=\"y\", font=dict(size=18))),\n",
    "        zaxis = dict(\n",
    "                    nticks=4, \n",
    "                    range=[-100,100], \n",
    "                    title = dict(text=\"z\", font=dict(size=18)),\n",
    "                    backgroundcolor='rgb(230, 200, 230)',\n",
    "        ),\n",
    "    ),\n",
    "    scene_aspectmode='cube',\n",
    "    width=700,\n",
    "    margin=dict(r=20, l=10, b=10, t=10)\n",
    ")\n",
    "fig.show()\n",
    "\n",
    "# fig.write_html(\"3Dplot.html\")"
   ]
  },
  {
   "cell_type": "code",
   "execution_count": null,
   "metadata": {},
   "outputs": [],
   "source": [
    "from dash import Dash, dcc, html\n",
    "\n",
    "app = Dash()\n",
    "app.layout = html.Div([\n",
    "    html.Div(children='My First App in Dash'),\n",
    "    # dash_table.DataTable(data=df.to_dict('records'), page_size=10),\n",
    "    dcc.Graph(figure=fig)\n",
    "])\n",
    "\n",
    "app.run(debug=True)"
   ]
  },
  {
   "cell_type": "code",
   "execution_count": null,
   "metadata": {},
   "outputs": [],
   "source": []
  }
 ],
 "metadata": {
  "kernelspec": {
   "display_name": "myenv",
   "language": "python",
   "name": "python3"
  },
  "language_info": {
   "codemirror_mode": {
    "name": "ipython",
    "version": 3
   },
   "file_extension": ".py",
   "mimetype": "text/x-python",
   "name": "python",
   "nbconvert_exporter": "python",
   "pygments_lexer": "ipython3",
   "version": "3.8.13"
  }
 },
 "nbformat": 4,
 "nbformat_minor": 2
}
