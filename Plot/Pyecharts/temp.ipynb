{
 "cells": [
  {
   "cell_type": "code",
   "execution_count": null,
   "metadata": {},
   "outputs": [],
   "source": []
  },
  {
   "cell_type": "code",
   "execution_count": null,
   "metadata": {},
   "outputs": [
    {
     "data": {
      "text/plain": [
       "'e:\\\\Work\\\\UWB\\\\Code\\\\UwbCOMCode\\\\Plot\\\\Pyecharts\\\\dual_circle.html'"
      ]
     },
     "execution_count": 7,
     "metadata": {},
     "output_type": "execute_result"
    }
   ],
   "source": [
    "from pyecharts import options as opts\n",
    "from pyecharts.charts import Pie, Grid\n",
    "from pyecharts.commons.utils import JsCode\n",
    "\n",
    "\"\"\"\n",
    "创建一个上下半圆拼接的图形，中间有序号\n",
    "\n",
    "参数:\n",
    "    index: 中心圆显示的序号\n",
    "    top_text: 上半圆显示的文字\n",
    "    bottom_text: 下半圆显示的文字\n",
    "    top_value: 上半圆的值（用于确定比例）\n",
    "    bottom_value: 下半圆的值（用于确定比例）\n",
    "    top_color: 上半圆的颜色\n",
    "    bottom_color: 下半圆的颜色\n",
    "    center_color: 中心圆的颜色\n",
    "    width: 图表宽度\n",
    "    height: 图表高度\n",
    "\"\"\"\n",
    "def create_dual_circle(index=5,top_text=\"4(±4.9)cm\",bottom_text=\"5(±2.2)cm\",\n",
    "    top_value=50,bottom_value=50,top_color=\"#F9C74F\",bottom_color=\"#90BE6D\",\n",
    "    center_color=\"#277DA1\",width=\"300px\",height=\"300px\"):\n",
    "    # 创建饼图\n",
    "    pie = Pie()\n",
    "    pie.add(\n",
    "        series_name=\"\",\n",
    "        data_pair=[\n",
    "            (\"上半部分\", top_value),\n",
    "            (\"下半部分\", bottom_value)\n",
    "        ],\n",
    "        radius=[\"35%\", \"80%\"],\n",
    "        center=[\"50%\", \"50%\"],\n",
    "        start_angle=180,\n",
    "        label_opts=opts.LabelOpts(\n",
    "            position=\"inside\",\n",
    "            formatter=JsCode(\n",
    "                \"\"\"function(params){\n",
    "                    if(params.name === '上半部分') return '\"\"\" + top_text + \"\"\"';\n",
    "                    else return '\"\"\" + bottom_text + \"\"\"';\n",
    "                }\"\"\"\n",
    "            ),\n",
    "            font_size=14,\n",
    "            font_weight=\"bold\",\n",
    "            color=\"#FFFFFF\"\n",
    "        )\n",
    "    )\n",
    "    \n",
    "    # 设置颜色\n",
    "    pie.set_colors([top_color, bottom_color])\n",
    "    \n",
    "    # 添加顶部和底部的文本标签\n",
    "    pie.set_global_opts(\n",
    "        title_opts=opts.TitleOpts(\n",
    "            title=\"\",\n",
    "            pos_top=\"5%\",\n",
    "            pos_left=\"center\",\n",
    "        ),\n",
    "        legend_opts=opts.LegendOpts(is_show=False),\n",
    "    )\n",
    "    \n",
    "    # 添加中心圆和序号\n",
    "    pie.add(\n",
    "        series_name=\"中心\",\n",
    "        data_pair=[(\"中心\", 1)],\n",
    "        radius=[\"0%\", \"30%\"],\n",
    "        center=[\"50%\", \"50%\"],\n",
    "        label_opts=opts.LabelOpts(\n",
    "            position=\"center\",\n",
    "            formatter=f\"{index}\",\n",
    "            font_size=24,\n",
    "            font_weight=\"bold\",\n",
    "            color=\"#FFFFFF\"\n",
    "        ),\n",
    "        itemstyle_opts=opts.ItemStyleOpts(\n",
    "            color=\"#87CEEB\",  # 浅蓝色\n",
    "            border_color=\"#000000\",  # 黑色边框\n",
    "            border_width=2  # 边框宽度\n",
    "        )\n",
    "    )\n",
    "    \n",
    "    # 设置中心圆的颜色（移除原来的 JavaScript 代码）\n",
    "    pie.set_series_opts(\n",
    "        tooltip_opts=opts.TooltipOpts(is_show=False)\n",
    "    )\n",
    "    \n",
    "    # 添加顶部和底部的额外标签\n",
    "    grid = Grid()\n",
    "    grid.add(\n",
    "        pie,\n",
    "        grid_opts=opts.GridOpts(\n",
    "            pos_left=\"10%\", pos_right=\"10%\", pos_top=\"10%\", pos_bottom=\"10%\"\n",
    "        )\n",
    "    )\n",
    "    \n",
    "    # 添加顶部和底部的文本\n",
    "    grid.add_js_funcs(f\"\"\"\n",
    "        chart_{grid.chart_id}.setOption({{\n",
    "            graphic: [\n",
    "                {{\n",
    "                    type: 'text',\n",
    "                    left: 'center',\n",
    "                    top: '5%',\n",
    "                    style: {{\n",
    "                        text: '-{top_value}dBm',\n",
    "                        fontSize: 14\n",
    "                    }}\n",
    "                }},\n",
    "                {{\n",
    "                    type: 'text',\n",
    "                    left: 'center',\n",
    "                    bottom: '5%',\n",
    "                    style: {{\n",
    "                        text: '-{bottom_value}dBm',\n",
    "                        fontSize: 14\n",
    "                    }}\n",
    "                }}\n",
    "            ]\n",
    "        }});\n",
    "    \"\"\")\n",
    "    \n",
    "    return grid\n",
    "\n",
    "# 创建图表并渲染\n",
    "chart = create_dual_circle()\n",
    "# chart.render_notebook()\n",
    "chart.render(\"./dual_circle.html\")\n",
    "# 如果需要创建多个图表，可以这样调用\n",
    "# chart1 = create_dual_circle(index=1, top_text=\"3(±3.1)cm\", bottom_text=\"4(±1.8)cm\", top_color=\"#F94144\", bottom_color=\"#4D908E\")\n",
    "# chart1.render(\"dual_circle_1.html\")\n"
   ]
  },
  {
   "cell_type": "code",
   "execution_count": null,
   "metadata": {},
   "outputs": [],
   "source": []
  },
  {
   "cell_type": "code",
   "execution_count": null,
   "metadata": {},
   "outputs": [],
   "source": []
  },
  {
   "cell_type": "code",
   "execution_count": null,
   "metadata": {},
   "outputs": [],
   "source": []
  },
  {
   "cell_type": "code",
   "execution_count": null,
   "metadata": {},
   "outputs": [],
   "source": []
  },
  {
   "cell_type": "code",
   "execution_count": null,
   "metadata": {},
   "outputs": [],
   "source": []
  },
  {
   "cell_type": "code",
   "execution_count": null,
   "metadata": {},
   "outputs": [],
   "source": []
  },
  {
   "cell_type": "code",
   "execution_count": null,
   "metadata": {},
   "outputs": [],
   "source": []
  },
  {
   "cell_type": "code",
   "execution_count": null,
   "metadata": {},
   "outputs": [],
   "source": []
  },
  {
   "cell_type": "code",
   "execution_count": null,
   "metadata": {},
   "outputs": [],
   "source": []
  },
  {
   "cell_type": "code",
   "execution_count": null,
   "metadata": {},
   "outputs": [],
   "source": []
  },
  {
   "cell_type": "code",
   "execution_count": null,
   "metadata": {},
   "outputs": [],
   "source": []
  },
  {
   "cell_type": "code",
   "execution_count": null,
   "metadata": {},
   "outputs": [],
   "source": []
  },
  {
   "cell_type": "code",
   "execution_count": null,
   "metadata": {},
   "outputs": [],
   "source": []
  },
  {
   "cell_type": "code",
   "execution_count": null,
   "metadata": {},
   "outputs": [],
   "source": []
  },
  {
   "cell_type": "code",
   "execution_count": null,
   "metadata": {},
   "outputs": [],
   "source": []
  },
  {
   "cell_type": "code",
   "execution_count": null,
   "metadata": {},
   "outputs": [],
   "source": []
  },
  {
   "cell_type": "code",
   "execution_count": null,
   "metadata": {},
   "outputs": [],
   "source": []
  },
  {
   "cell_type": "code",
   "execution_count": null,
   "metadata": {},
   "outputs": [],
   "source": []
  }
 ],
 "metadata": {
  "kernelspec": {
   "display_name": "myenv",
   "language": "python",
   "name": "python3"
  },
  "language_info": {
   "codemirror_mode": {
    "name": "ipython",
    "version": 3
   },
   "file_extension": ".py",
   "mimetype": "text/x-python",
   "name": "python",
   "nbconvert_exporter": "python",
   "pygments_lexer": "ipython3",
   "version": "3.8.13"
  }
 },
 "nbformat": 4,
 "nbformat_minor": 2
}
