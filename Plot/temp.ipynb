{
 "cells": [
  {
   "cell_type": "code",
   "execution_count": 1,
   "metadata": {},
   "outputs": [],
   "source": [
    "import pandas as pd\n",
    "import numpy as np\n",
    "\n",
    "# 读取CSV文件\n",
    "df = pd.read_csv('e:/Work/UWB/Code/UwbCOMCode/Plot/XM_UwbCOM_Test_Log_2025-04-07-15-39-18.csv')\n",
    "\n",
    "# 根据Height分组\n",
    "df_08 = df[df['Height'] == 0.8].copy()\n",
    "df_15 = df[df['Height'] == 1.5].copy()\n",
    "\n",
    "# 确保列名复制\n",
    "df_08.columns = df.columns\n",
    "df_15.columns = df.columns"
   ]
  },
  {
   "cell_type": "code",
   "execution_count": 2,
   "metadata": {},
   "outputs": [
    {
     "data": {
      "text/html": [
       "<div>\n",
       "<style scoped>\n",
       "    .dataframe tbody tr th:only-of-type {\n",
       "        vertical-align: middle;\n",
       "    }\n",
       "\n",
       "    .dataframe tbody tr th {\n",
       "        vertical-align: top;\n",
       "    }\n",
       "\n",
       "    .dataframe thead th {\n",
       "        text-align: right;\n",
       "    }\n",
       "</style>\n",
       "<table border=\"1\" class=\"dataframe\">\n",
       "  <thead>\n",
       "    <tr style=\"text-align: right;\">\n",
       "      <th></th>\n",
       "      <th>Point</th>\n",
       "      <th>Height</th>\n",
       "      <th>M_Avg</th>\n",
       "      <th>M_Std</th>\n",
       "      <th>M_Res</th>\n",
       "      <th>M_RSSI</th>\n",
       "      <th>S_Avg</th>\n",
       "      <th>S_Std</th>\n",
       "      <th>S_Res</th>\n",
       "      <th>S_RSSI</th>\n",
       "    </tr>\n",
       "  </thead>\n",
       "  <tbody>\n",
       "    <tr>\n",
       "      <th>0</th>\n",
       "      <td>0</td>\n",
       "      <td>0.8</td>\n",
       "      <td>36.9</td>\n",
       "      <td>1.6</td>\n",
       "      <td>28.1</td>\n",
       "      <td>61.5</td>\n",
       "      <td>38.1</td>\n",
       "      <td>3.8</td>\n",
       "      <td>26.9</td>\n",
       "      <td>71</td>\n",
       "    </tr>\n",
       "    <tr>\n",
       "      <th>1</th>\n",
       "      <td>1</td>\n",
       "      <td>0.8</td>\n",
       "      <td>36.5</td>\n",
       "      <td>1.5</td>\n",
       "      <td>14.5</td>\n",
       "      <td>62.0</td>\n",
       "      <td>37.0</td>\n",
       "      <td>1.7</td>\n",
       "      <td>14.0</td>\n",
       "      <td>71</td>\n",
       "    </tr>\n",
       "    <tr>\n",
       "      <th>2</th>\n",
       "      <td>2</td>\n",
       "      <td>0.8</td>\n",
       "      <td>36.7</td>\n",
       "      <td>1.6</td>\n",
       "      <td>-22.7</td>\n",
       "      <td>62.0</td>\n",
       "      <td>37.2</td>\n",
       "      <td>1.9</td>\n",
       "      <td>-23.2</td>\n",
       "      <td>71</td>\n",
       "    </tr>\n",
       "    <tr>\n",
       "      <th>3</th>\n",
       "      <td>3</td>\n",
       "      <td>0.8</td>\n",
       "      <td>36.6</td>\n",
       "      <td>1.6</td>\n",
       "      <td>15.4</td>\n",
       "      <td>62.5</td>\n",
       "      <td>37.2</td>\n",
       "      <td>1.9</td>\n",
       "      <td>14.8</td>\n",
       "      <td>71</td>\n",
       "    </tr>\n",
       "    <tr>\n",
       "      <th>4</th>\n",
       "      <td>4</td>\n",
       "      <td>0.8</td>\n",
       "      <td>36.6</td>\n",
       "      <td>1.6</td>\n",
       "      <td>64.4</td>\n",
       "      <td>62.5</td>\n",
       "      <td>37.1</td>\n",
       "      <td>2.0</td>\n",
       "      <td>63.9</td>\n",
       "      <td>71</td>\n",
       "    </tr>\n",
       "  </tbody>\n",
       "</table>\n",
       "</div>"
      ],
      "text/plain": [
       "   Point  Height  M_Avg  M_Std  M_Res  M_RSSI  S_Avg  S_Std  S_Res  S_RSSI\n",
       "0      0     0.8   36.9    1.6   28.1    61.5   38.1    3.8   26.9      71\n",
       "1      1     0.8   36.5    1.5   14.5    62.0   37.0    1.7   14.0      71\n",
       "2      2     0.8   36.7    1.6  -22.7    62.0   37.2    1.9  -23.2      71\n",
       "3      3     0.8   36.6    1.6   15.4    62.5   37.2    1.9   14.8      71\n",
       "4      4     0.8   36.6    1.6   64.4    62.5   37.1    2.0   63.9      71"
      ]
     },
     "execution_count": 2,
     "metadata": {},
     "output_type": "execute_result"
    }
   ],
   "source": [
    "df_08.head(5)"
   ]
  },
  {
   "cell_type": "code",
   "execution_count": 3,
   "metadata": {},
   "outputs": [
    {
     "data": {
      "text/html": [
       "<div>\n",
       "<style scoped>\n",
       "    .dataframe tbody tr th:only-of-type {\n",
       "        vertical-align: middle;\n",
       "    }\n",
       "\n",
       "    .dataframe tbody tr th {\n",
       "        vertical-align: top;\n",
       "    }\n",
       "\n",
       "    .dataframe thead th {\n",
       "        text-align: right;\n",
       "    }\n",
       "</style>\n",
       "<table border=\"1\" class=\"dataframe\">\n",
       "  <thead>\n",
       "    <tr style=\"text-align: right;\">\n",
       "      <th></th>\n",
       "      <th>Point</th>\n",
       "      <th>Height</th>\n",
       "      <th>M_Avg</th>\n",
       "      <th>M_Std</th>\n",
       "      <th>M_Res</th>\n",
       "      <th>M_RSSI</th>\n",
       "      <th>S_Avg</th>\n",
       "      <th>S_Std</th>\n",
       "      <th>S_Res</th>\n",
       "      <th>S_RSSI</th>\n",
       "    </tr>\n",
       "  </thead>\n",
       "  <tbody>\n",
       "    <tr>\n",
       "      <th>15</th>\n",
       "      <td>0</td>\n",
       "      <td>1.5</td>\n",
       "      <td>35.1</td>\n",
       "      <td>2.9</td>\n",
       "      <td>52.9</td>\n",
       "      <td>67.5</td>\n",
       "      <td>39.8</td>\n",
       "      <td>5.3</td>\n",
       "      <td>48.2</td>\n",
       "      <td>71</td>\n",
       "    </tr>\n",
       "    <tr>\n",
       "      <th>16</th>\n",
       "      <td>1</td>\n",
       "      <td>1.5</td>\n",
       "      <td>35.1</td>\n",
       "      <td>2.9</td>\n",
       "      <td>42.9</td>\n",
       "      <td>67.5</td>\n",
       "      <td>39.8</td>\n",
       "      <td>5.3</td>\n",
       "      <td>38.2</td>\n",
       "      <td>71</td>\n",
       "    </tr>\n",
       "    <tr>\n",
       "      <th>17</th>\n",
       "      <td>3</td>\n",
       "      <td>1.5</td>\n",
       "      <td>35.1</td>\n",
       "      <td>2.9</td>\n",
       "      <td>42.9</td>\n",
       "      <td>67.5</td>\n",
       "      <td>39.8</td>\n",
       "      <td>5.3</td>\n",
       "      <td>38.2</td>\n",
       "      <td>71</td>\n",
       "    </tr>\n",
       "  </tbody>\n",
       "</table>\n",
       "</div>"
      ],
      "text/plain": [
       "    Point  Height  M_Avg  M_Std  M_Res  M_RSSI  S_Avg  S_Std  S_Res  S_RSSI\n",
       "15      0     1.5   35.1    2.9   52.9    67.5   39.8    5.3   48.2      71\n",
       "16      1     1.5   35.1    2.9   42.9    67.5   39.8    5.3   38.2      71\n",
       "17      3     1.5   35.1    2.9   42.9    67.5   39.8    5.3   38.2      71"
      ]
     },
     "execution_count": 3,
     "metadata": {},
     "output_type": "execute_result"
    }
   ],
   "source": [
    "df_15.head(5)"
   ]
  },
  {
   "cell_type": "code",
   "execution_count": 5,
   "metadata": {},
   "outputs": [
    {
     "data": {
      "text/html": [
       "<div>\n",
       "<style scoped>\n",
       "    .dataframe tbody tr th:only-of-type {\n",
       "        vertical-align: middle;\n",
       "    }\n",
       "\n",
       "    .dataframe tbody tr th {\n",
       "        vertical-align: top;\n",
       "    }\n",
       "\n",
       "    .dataframe thead th {\n",
       "        text-align: right;\n",
       "    }\n",
       "</style>\n",
       "<table border=\"1\" class=\"dataframe\">\n",
       "  <thead>\n",
       "    <tr style=\"text-align: right;\">\n",
       "      <th></th>\n",
       "      <th>Point</th>\n",
       "      <th>Height</th>\n",
       "      <th>M_Avg</th>\n",
       "      <th>M_Std</th>\n",
       "      <th>M_Res</th>\n",
       "      <th>M_RSSI</th>\n",
       "      <th>S_Avg</th>\n",
       "      <th>S_Std</th>\n",
       "      <th>S_Res</th>\n",
       "      <th>S_RSSI</th>\n",
       "    </tr>\n",
       "  </thead>\n",
       "  <tbody>\n",
       "    <tr>\n",
       "      <th>16</th>\n",
       "      <td>1</td>\n",
       "      <td>1.5</td>\n",
       "      <td>35.1</td>\n",
       "      <td>2.9</td>\n",
       "      <td>42.9</td>\n",
       "      <td>67.5</td>\n",
       "      <td>39.8</td>\n",
       "      <td>5.3</td>\n",
       "      <td>38.2</td>\n",
       "      <td>71</td>\n",
       "    </tr>\n",
       "  </tbody>\n",
       "</table>\n",
       "</div>"
      ],
      "text/plain": [
       "    Point  Height  M_Avg  M_Std  M_Res  M_RSSI  S_Avg  S_Std  S_Res  S_RSSI\n",
       "16      1     1.5   35.1    2.9   42.9    67.5   39.8    5.3   38.2      71"
      ]
     },
     "execution_count": 5,
     "metadata": {},
     "output_type": "execute_result"
    }
   ],
   "source": [
    "df_15[df_15['Point'] == 1]"
   ]
  },
  {
   "cell_type": "code",
   "execution_count": 6,
   "metadata": {},
   "outputs": [
    {
     "data": {
      "text/plain": [
       "15    False\n",
       "16     True\n",
       "17    False\n",
       "Name: Point, dtype: bool"
      ]
     },
     "execution_count": 6,
     "metadata": {},
     "output_type": "execute_result"
    }
   ],
   "source": [
    "df_15['Point'] == 1"
   ]
  },
  {
   "cell_type": "code",
   "execution_count": null,
   "metadata": {},
   "outputs": [],
   "source": []
  },
  {
   "cell_type": "code",
   "execution_count": 3,
   "metadata": {},
   "outputs": [],
   "source": [
    "str_data = \"0000FF66 0106FFFF FFFFFF05 FFFFFFFF FF9DC200 061E006F 1A840E32 5041592E 5359532E 44444630 31A5089F 08023130 89010290 003A006F 368408A0 00000632 010105A5 269F0802 00309F0C 1E022158 40FFFFFF FF020103 10487049 41202646 97202310 31205310 31000000 00000090 00200002 215840FF FFFFFF02 01031048 70494120 26469720 23103120 53103100 0090003E 00000001 56580058 40000101 00000000 00000000 00000000 00000000 00000000 00000000 00000000 00000000 00000000 00000000 00000000 00000000 00900082 0027017D 01010000 00000000 00000002 39303930 11343930 FFFFFFFF 11343930 FFFFFFFF 01343930 00000218 01343930 00000000 01343930 02180701 01343930 00000000 20250612 18522420 25061218 54140000 00000202 00000000 00002ED9 00000000 00000000 00000000 00000000 00000000 00000000 00000000 0000\""
   ]
  },
  {
   "cell_type": "code",
   "execution_count": 4,
   "metadata": {},
   "outputs": [
    {
     "name": "stdout",
     "output_type": "stream",
     "text": [
      "0000FF660106FFFFFFFFFF05FFFFFFFFFF9DC200061E006F1A840E325041592E5359532E4444463031A5089F0802313089010290003A006F368408A000000632010105A5269F080200309F0C1E02215840FFFFFFFF02010310487049412026469720231031205310310000000000009000200002215840FFFFFFFF0201031048704941202646972023103120531031000090003E000000015658005840000101000000000000000000000000000000000000000000000000000000000000000000000000000000000000000000000000009000820027017D0101000000000000000000023930393011343930FFFFFFFF11343930FFFFFFFF013439300000021801343930000000000134393002180701013439300000000020250612185224202506121854140000000002020000000000002ED9000000000000000000000000000000000000000000000000000000000000\n"
     ]
    }
   ],
   "source": [
    "result = str_data.replace(\" \", \"\")\n",
    "print(result)"
   ]
  },
  {
   "cell_type": "code",
   "execution_count": null,
   "metadata": {},
   "outputs": [],
   "source": []
  },
  {
   "cell_type": "code",
   "execution_count": null,
   "metadata": {},
   "outputs": [],
   "source": []
  },
  {
   "cell_type": "code",
   "execution_count": null,
   "metadata": {},
   "outputs": [],
   "source": []
  }
 ],
 "metadata": {
  "kernelspec": {
   "display_name": "myenv",
   "language": "python",
   "name": "python3"
  },
  "language_info": {
   "codemirror_mode": {
    "name": "ipython",
    "version": 3
   },
   "file_extension": ".py",
   "mimetype": "text/x-python",
   "name": "python",
   "nbconvert_exporter": "python",
   "pygments_lexer": "ipython3",
   "version": "3.8.13"
  }
 },
 "nbformat": 4,
 "nbformat_minor": 2
}
