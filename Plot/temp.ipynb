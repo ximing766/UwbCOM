{
 "cells": [
  {
   "cell_type": "code",
   "execution_count": 1,
   "metadata": {},
   "outputs": [],
   "source": [
    "import pandas as pd\n",
    "import numpy as np\n",
    "\n",
    "# 读取CSV文件\n",
    "df = pd.read_csv('e:/Work/UWB/Code/UwbCOMCode/Plot/XM_UwbCOM_Test_Log_2025-04-07-15-39-18.csv')\n",
    "\n",
    "# 根据Height分组\n",
    "df_08 = df[df['Height'] == 0.8].copy()\n",
    "df_15 = df[df['Height'] == 1.5].copy()\n",
    "\n",
    "# 确保列名复制\n",
    "df_08.columns = df.columns\n",
    "df_15.columns = df.columns"
   ]
  },
  {
   "cell_type": "code",
   "execution_count": 2,
   "metadata": {},
   "outputs": [
    {
     "data": {
      "text/html": [
       "<div>\n",
       "<style scoped>\n",
       "    .dataframe tbody tr th:only-of-type {\n",
       "        vertical-align: middle;\n",
       "    }\n",
       "\n",
       "    .dataframe tbody tr th {\n",
       "        vertical-align: top;\n",
       "    }\n",
       "\n",
       "    .dataframe thead th {\n",
       "        text-align: right;\n",
       "    }\n",
       "</style>\n",
       "<table border=\"1\" class=\"dataframe\">\n",
       "  <thead>\n",
       "    <tr style=\"text-align: right;\">\n",
       "      <th></th>\n",
       "      <th>Point</th>\n",
       "      <th>Height</th>\n",
       "      <th>M_Avg</th>\n",
       "      <th>M_Std</th>\n",
       "      <th>M_Res</th>\n",
       "      <th>M_RSSI</th>\n",
       "      <th>S_Avg</th>\n",
       "      <th>S_Std</th>\n",
       "      <th>S_Res</th>\n",
       "      <th>S_RSSI</th>\n",
       "    </tr>\n",
       "  </thead>\n",
       "  <tbody>\n",
       "    <tr>\n",
       "      <th>0</th>\n",
       "      <td>0</td>\n",
       "      <td>0.8</td>\n",
       "      <td>36.9</td>\n",
       "      <td>1.6</td>\n",
       "      <td>28.1</td>\n",
       "      <td>61.5</td>\n",
       "      <td>38.1</td>\n",
       "      <td>3.8</td>\n",
       "      <td>26.9</td>\n",
       "      <td>71</td>\n",
       "    </tr>\n",
       "    <tr>\n",
       "      <th>1</th>\n",
       "      <td>1</td>\n",
       "      <td>0.8</td>\n",
       "      <td>36.5</td>\n",
       "      <td>1.5</td>\n",
       "      <td>14.5</td>\n",
       "      <td>62.0</td>\n",
       "      <td>37.0</td>\n",
       "      <td>1.7</td>\n",
       "      <td>14.0</td>\n",
       "      <td>71</td>\n",
       "    </tr>\n",
       "    <tr>\n",
       "      <th>2</th>\n",
       "      <td>2</td>\n",
       "      <td>0.8</td>\n",
       "      <td>36.7</td>\n",
       "      <td>1.6</td>\n",
       "      <td>-22.7</td>\n",
       "      <td>62.0</td>\n",
       "      <td>37.2</td>\n",
       "      <td>1.9</td>\n",
       "      <td>-23.2</td>\n",
       "      <td>71</td>\n",
       "    </tr>\n",
       "    <tr>\n",
       "      <th>3</th>\n",
       "      <td>3</td>\n",
       "      <td>0.8</td>\n",
       "      <td>36.6</td>\n",
       "      <td>1.6</td>\n",
       "      <td>15.4</td>\n",
       "      <td>62.5</td>\n",
       "      <td>37.2</td>\n",
       "      <td>1.9</td>\n",
       "      <td>14.8</td>\n",
       "      <td>71</td>\n",
       "    </tr>\n",
       "    <tr>\n",
       "      <th>4</th>\n",
       "      <td>4</td>\n",
       "      <td>0.8</td>\n",
       "      <td>36.6</td>\n",
       "      <td>1.6</td>\n",
       "      <td>64.4</td>\n",
       "      <td>62.5</td>\n",
       "      <td>37.1</td>\n",
       "      <td>2.0</td>\n",
       "      <td>63.9</td>\n",
       "      <td>71</td>\n",
       "    </tr>\n",
       "  </tbody>\n",
       "</table>\n",
       "</div>"
      ],
      "text/plain": [
       "   Point  Height  M_Avg  M_Std  M_Res  M_RSSI  S_Avg  S_Std  S_Res  S_RSSI\n",
       "0      0     0.8   36.9    1.6   28.1    61.5   38.1    3.8   26.9      71\n",
       "1      1     0.8   36.5    1.5   14.5    62.0   37.0    1.7   14.0      71\n",
       "2      2     0.8   36.7    1.6  -22.7    62.0   37.2    1.9  -23.2      71\n",
       "3      3     0.8   36.6    1.6   15.4    62.5   37.2    1.9   14.8      71\n",
       "4      4     0.8   36.6    1.6   64.4    62.5   37.1    2.0   63.9      71"
      ]
     },
     "execution_count": 2,
     "metadata": {},
     "output_type": "execute_result"
    }
   ],
   "source": [
    "df_08.head(5)"
   ]
  },
  {
   "cell_type": "code",
   "execution_count": 3,
   "metadata": {},
   "outputs": [
    {
     "data": {
      "text/html": [
       "<div>\n",
       "<style scoped>\n",
       "    .dataframe tbody tr th:only-of-type {\n",
       "        vertical-align: middle;\n",
       "    }\n",
       "\n",
       "    .dataframe tbody tr th {\n",
       "        vertical-align: top;\n",
       "    }\n",
       "\n",
       "    .dataframe thead th {\n",
       "        text-align: right;\n",
       "    }\n",
       "</style>\n",
       "<table border=\"1\" class=\"dataframe\">\n",
       "  <thead>\n",
       "    <tr style=\"text-align: right;\">\n",
       "      <th></th>\n",
       "      <th>Point</th>\n",
       "      <th>Height</th>\n",
       "      <th>M_Avg</th>\n",
       "      <th>M_Std</th>\n",
       "      <th>M_Res</th>\n",
       "      <th>M_RSSI</th>\n",
       "      <th>S_Avg</th>\n",
       "      <th>S_Std</th>\n",
       "      <th>S_Res</th>\n",
       "      <th>S_RSSI</th>\n",
       "    </tr>\n",
       "  </thead>\n",
       "  <tbody>\n",
       "    <tr>\n",
       "      <th>15</th>\n",
       "      <td>0</td>\n",
       "      <td>1.5</td>\n",
       "      <td>35.1</td>\n",
       "      <td>2.9</td>\n",
       "      <td>52.9</td>\n",
       "      <td>67.5</td>\n",
       "      <td>39.8</td>\n",
       "      <td>5.3</td>\n",
       "      <td>48.2</td>\n",
       "      <td>71</td>\n",
       "    </tr>\n",
       "    <tr>\n",
       "      <th>16</th>\n",
       "      <td>1</td>\n",
       "      <td>1.5</td>\n",
       "      <td>35.1</td>\n",
       "      <td>2.9</td>\n",
       "      <td>42.9</td>\n",
       "      <td>67.5</td>\n",
       "      <td>39.8</td>\n",
       "      <td>5.3</td>\n",
       "      <td>38.2</td>\n",
       "      <td>71</td>\n",
       "    </tr>\n",
       "    <tr>\n",
       "      <th>17</th>\n",
       "      <td>3</td>\n",
       "      <td>1.5</td>\n",
       "      <td>35.1</td>\n",
       "      <td>2.9</td>\n",
       "      <td>42.9</td>\n",
       "      <td>67.5</td>\n",
       "      <td>39.8</td>\n",
       "      <td>5.3</td>\n",
       "      <td>38.2</td>\n",
       "      <td>71</td>\n",
       "    </tr>\n",
       "  </tbody>\n",
       "</table>\n",
       "</div>"
      ],
      "text/plain": [
       "    Point  Height  M_Avg  M_Std  M_Res  M_RSSI  S_Avg  S_Std  S_Res  S_RSSI\n",
       "15      0     1.5   35.1    2.9   52.9    67.5   39.8    5.3   48.2      71\n",
       "16      1     1.5   35.1    2.9   42.9    67.5   39.8    5.3   38.2      71\n",
       "17      3     1.5   35.1    2.9   42.9    67.5   39.8    5.3   38.2      71"
      ]
     },
     "execution_count": 3,
     "metadata": {},
     "output_type": "execute_result"
    }
   ],
   "source": [
    "df_15.head(5)"
   ]
  },
  {
   "cell_type": "code",
   "execution_count": 5,
   "metadata": {},
   "outputs": [
    {
     "data": {
      "text/html": [
       "<div>\n",
       "<style scoped>\n",
       "    .dataframe tbody tr th:only-of-type {\n",
       "        vertical-align: middle;\n",
       "    }\n",
       "\n",
       "    .dataframe tbody tr th {\n",
       "        vertical-align: top;\n",
       "    }\n",
       "\n",
       "    .dataframe thead th {\n",
       "        text-align: right;\n",
       "    }\n",
       "</style>\n",
       "<table border=\"1\" class=\"dataframe\">\n",
       "  <thead>\n",
       "    <tr style=\"text-align: right;\">\n",
       "      <th></th>\n",
       "      <th>Point</th>\n",
       "      <th>Height</th>\n",
       "      <th>M_Avg</th>\n",
       "      <th>M_Std</th>\n",
       "      <th>M_Res</th>\n",
       "      <th>M_RSSI</th>\n",
       "      <th>S_Avg</th>\n",
       "      <th>S_Std</th>\n",
       "      <th>S_Res</th>\n",
       "      <th>S_RSSI</th>\n",
       "    </tr>\n",
       "  </thead>\n",
       "  <tbody>\n",
       "    <tr>\n",
       "      <th>16</th>\n",
       "      <td>1</td>\n",
       "      <td>1.5</td>\n",
       "      <td>35.1</td>\n",
       "      <td>2.9</td>\n",
       "      <td>42.9</td>\n",
       "      <td>67.5</td>\n",
       "      <td>39.8</td>\n",
       "      <td>5.3</td>\n",
       "      <td>38.2</td>\n",
       "      <td>71</td>\n",
       "    </tr>\n",
       "  </tbody>\n",
       "</table>\n",
       "</div>"
      ],
      "text/plain": [
       "    Point  Height  M_Avg  M_Std  M_Res  M_RSSI  S_Avg  S_Std  S_Res  S_RSSI\n",
       "16      1     1.5   35.1    2.9   42.9    67.5   39.8    5.3   38.2      71"
      ]
     },
     "execution_count": 5,
     "metadata": {},
     "output_type": "execute_result"
    }
   ],
   "source": [
    "df_15[df_15['Point'] == 1]"
   ]
  },
  {
   "cell_type": "code",
   "execution_count": 6,
   "metadata": {},
   "outputs": [
    {
     "data": {
      "text/plain": [
       "15    False\n",
       "16     True\n",
       "17    False\n",
       "Name: Point, dtype: bool"
      ]
     },
     "execution_count": 6,
     "metadata": {},
     "output_type": "execute_result"
    }
   ],
   "source": [
    "df_15['Point'] == 1"
   ]
  },
  {
   "cell_type": "code",
   "execution_count": null,
   "metadata": {},
   "outputs": [],
   "source": []
  },
  {
   "cell_type": "code",
   "execution_count": 5,
   "metadata": {},
   "outputs": [
    {
     "name": "stdout",
     "output_type": "stream",
     "text": [
      " ������ E �еľ��� ����\n",
      " �������к��� F697-39CC\n",
      "\n",
      " e:\\Work\\UWB\\Code\\UwbCOMCode\\Plot ��Ŀ¼\n",
      "\n",
      "2025/04/07  17:51    <DIR>          .\n",
      "2025/04/07  10:21    <DIR>          ..\n",
      "2024/12/02  18:28    <DIR>          Plotly-Dash\n",
      "2025/04/07  10:22    <DIR>          Pyecharts\n",
      "2025/04/07  17:51            10,512 temp.ipynb\n",
      "2025/01/03  12:38             9,090 UwbParameterPlot.py\n",
      "2025/04/07  17:51             8,261 UWBTestChart.py\n",
      "2025/02/11  19:07    <DIR>          __pycache__\n",
      "               3 ���ļ�         27,863 �ֽ�\n",
      "               5 ��Ŀ¼ 195,468,660,736 �����ֽ�\n"
     ]
    }
   ],
   "source": [
    "!dir"
   ]
  },
  {
   "cell_type": "code",
   "execution_count": null,
   "metadata": {},
   "outputs": [],
   "source": []
  }
 ],
 "metadata": {
  "kernelspec": {
   "display_name": "myenv",
   "language": "python",
   "name": "python3"
  },
  "language_info": {
   "codemirror_mode": {
    "name": "ipython",
    "version": 3
   },
   "file_extension": ".py",
   "mimetype": "text/x-python",
   "name": "python",
   "nbconvert_exporter": "python",
   "pygments_lexer": "ipython3",
   "version": "3.8.13"
  }
 },
 "nbformat": 4,
 "nbformat_minor": 2
}
