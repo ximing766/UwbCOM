{
 "cells": [
  {
   "cell_type": "markdown",
   "metadata": {},
   "source": [
    "# 1-简单工厂模式\n",
    "- 优点: 通过同一个接口创建不同的产品  \n",
    "- 缺点: 扩展性差，如果要新增一个产品，需要修改工厂类，工厂类业务逻辑复杂"
   ]
  },
  {
   "cell_type": "code",
   "execution_count": 2,
   "metadata": {},
   "outputs": [
    {
     "name": "stdout",
     "output_type": "stream",
     "text": [
      "ProductA operation\n"
     ]
    }
   ],
   "source": [
    "class ProductA:\n",
    "    def operation(self):\n",
    "        return \"ProductA operation\"\n",
    "\n",
    "class ProductB:\n",
    "    def operation(self):\n",
    "        return \"ProductB operation\"\n",
    "\n",
    "class SimpleFactory:\n",
    "    @staticmethod\n",
    "    def create_product(product_type):\n",
    "        if product_type == \"A\":\n",
    "            return ProductA()\n",
    "        elif product_type == \"B\":\n",
    "            return ProductB()\n",
    "        else:\n",
    "            return None\n",
    "\n",
    "# 客户端代码\n",
    "product_type = \"A\"\n",
    "product = SimpleFactory.create_product(product_type)\n",
    "print(product.operation())  # 输出: ProductA operation"
   ]
  },
  {
   "cell_type": "code",
   "execution_count": null,
   "metadata": {},
   "outputs": [],
   "source": []
  },
  {
   "cell_type": "markdown",
   "metadata": {},
   "source": [
    "# 2-工厂方法模式\n",
    "- 优点: 扩展性好，新增一个产品，只需要新增一个产品类和对应的创建者类\n",
    "- 缺点: 每次新增一个产品，都需要新增一个创建者类，增加了类的数量"
   ]
  },
  {
   "cell_type": "code",
   "execution_count": null,
   "metadata": {},
   "outputs": [],
   "source": [
    "from abc import ABC, abstractmethod\n",
    "\n",
    "class Product(ABC):\n",
    "    @abstractmethod\n",
    "    def operation(self):\n",
    "        pass\n",
    "\n",
    "class ConcreteProductA(Product):\n",
    "    def operation(self):\n",
    "        return \"ConcreteProductA operation\"\n",
    "\n",
    "class ConcreteProductB(Product):\n",
    "    def operation(self):\n",
    "        return \"ConcreteProductB operation\"\n",
    "\n",
    "class Creator(ABC):\n",
    "    @abstractmethod\n",
    "    def factory_method(self):\n",
    "        pass\n",
    "\n",
    "class ConcreteCreatorA(Creator):\n",
    "    def factory_method(self):\n",
    "        return ConcreteProductA()\n",
    "\n",
    "class ConcreteCreatorB(Creator):\n",
    "    def factory_method(self):\n",
    "        return ConcreteProductB()\n",
    "\n",
    "# 客户端代码\n",
    "creator_a = ConcreteCreatorA()\n",
    "product_a = creator_a.factory_method()\n",
    "print(product_a.operation())  # 输出: ConcreteProductA operation\n",
    "\n",
    "creator_b = ConcreteCreatorB()\n",
    "product_b = creator_b.factory_method()\n",
    "print(product_b.operation())  # 输出: ConcreteProductB operation"
   ]
  },
  {
   "cell_type": "markdown",
   "metadata": {},
   "source": [
    "# 3-装饰器模式\n"
   ]
  },
  {
   "cell_type": "markdown",
   "metadata": {},
   "source": [
    "## 类装饰器"
   ]
  },
  {
   "cell_type": "code",
   "execution_count": 8,
   "metadata": {},
   "outputs": [
    {
     "name": "stdout",
     "output_type": "stream",
     "text": [
      "Something is happening before the operation.\n",
      "Something is happening after the operation.\n",
      "Component\n"
     ]
    }
   ],
   "source": [
    "def class_decorator(cls):\n",
    "    class Wrapper:\n",
    "        def __init__(self, *args, **kwargs):\n",
    "            self._instance = cls(*args, **kwargs)\n",
    "        \n",
    "        def __getattr__(self, name):\n",
    "            return getattr(self._instance, name)\n",
    "        \n",
    "        def operation(self):\n",
    "            print(\"Something is happening before the operation.\")\n",
    "            result = self._instance.operation()\n",
    "            print(\"Something is happening after the operation.\")\n",
    "            return result\n",
    "    return Wrapper\n",
    "\n",
    "@class_decorator\n",
    "class Component:\n",
    "    def operation(self):\n",
    "        return \"Component\"\n",
    "\n",
    "# 客户端代码\n",
    "component = Component()\n",
    "print(component.operation())  # 输出: Component"
   ]
  },
  {
   "cell_type": "markdown",
   "metadata": {},
   "source": [
    "## 函数装饰器"
   ]
  },
  {
   "cell_type": "code",
   "execution_count": 14,
   "metadata": {},
   "outputs": [
    {
     "name": "stdout",
     "output_type": "stream",
     "text": [
      "Something is happening before the function is called.\n",
      "Function is executed.\n",
      "Something is happening after the function is called.\n"
     ]
    }
   ],
   "source": [
    "def decorator(func):\n",
    "    def wrapper(*args, **kwargs):\n",
    "        print(\"Something is happening before the function is called.\")\n",
    "        func(*args, **kwargs)\n",
    "        print(\"Something is happening after the function is called.\")\n",
    "    return wrapper\n",
    "\n",
    "@decorator\n",
    "def function():\n",
    "    print(\"Function is executed.\")\n",
    "\n",
    "function()"
   ]
  },
  {
   "cell_type": "code",
   "execution_count": 13,
   "metadata": {},
   "outputs": [
    {
     "name": "stdout",
     "output_type": "stream",
     "text": [
      "[baiyu]执行时间为： 1.0069811344146729\n",
      "[zhh]执行时间为： 1.0058629512786865\n",
      "[mylove]执行时间为： 1.0060136318206787\n"
     ]
    }
   ],
   "source": [
    "import time\n",
    "def count_time_args(msg=None):\n",
    "    def count_time(func):\n",
    "        def wrapper(*args, **kwargs):\n",
    "            t1 = time.time()\n",
    "            func(*args, **kwargs)\n",
    "            print(f\"[{msg}]执行时间为：\", time.time() - t1)\n",
    " \n",
    "        return wrapper\n",
    " \n",
    "    return count_time\n",
    " \n",
    "@count_time_args(msg=\"baiyu\")\n",
    "def fun_one():\n",
    "    time.sleep(1)\n",
    " \n",
    "@count_time_args(msg=\"zhh\")\n",
    "def fun_two():\n",
    "    time.sleep(1)\n",
    " \n",
    "@count_time_args(msg=\"mylove\")\n",
    "def fun_three():\n",
    "    time.sleep(1)\n",
    " \n",
    "if __name__ == '__main__':\n",
    "    fun_one()\n",
    "    fun_two()\n",
    "    fun_three()"
   ]
  },
  {
   "cell_type": "markdown",
   "metadata": {},
   "source": [
    "# 4-适配器模式"
   ]
  },
  {
   "cell_type": "markdown",
   "metadata": {},
   "source": [
    "## 对象适配器"
   ]
  },
  {
   "cell_type": "code",
   "execution_count": 11,
   "metadata": {},
   "outputs": [
    {
     "name": "stdout",
     "output_type": "stream",
     "text": [
      "Adaptee specific request\n"
     ]
    }
   ],
   "source": [
    "# 目标接口\n",
    "class Target:\n",
    "    def request(self):\n",
    "        pass\n",
    "\n",
    "# 被适配者\n",
    "class Adaptee:\n",
    "    def specific_request(self):\n",
    "        return \"Adaptee specific request\"\n",
    "\n",
    "# 适配器\n",
    "class Adapter(Target):\n",
    "    def __init__(self, adaptee):\n",
    "        self._adaptee = adaptee\n",
    "\n",
    "    def request(self):\n",
    "        return self._adaptee.specific_request()\n",
    "\n",
    "# 客户端代码\n",
    "adaptee = Adaptee()\n",
    "adapter = Adapter(adaptee)\n",
    "print(adapter.request())  # 输出: Adaptee specific request"
   ]
  },
  {
   "cell_type": "markdown",
   "metadata": {},
   "source": [
    "## 函数适配器"
   ]
  },
  {
   "cell_type": "code",
   "execution_count": 12,
   "metadata": {},
   "outputs": [
    {
     "name": "stdout",
     "output_type": "stream",
     "text": [
      "Adaptee function called with Hello\n"
     ]
    }
   ],
   "source": [
    "# 被适配的函数\n",
    "def adaptee_function(param1):\n",
    "    return f\"Adaptee function called with {param1}\"\n",
    "\n",
    "# 适配器函数\n",
    "def adapter_function(param1, param2):\n",
    "    return adaptee_function(param1)\n",
    "\n",
    "# 客户端代码\n",
    "print(adapter_function(\"Hello\", \"World\"))  # 输出: Adaptee function called with Hello"
   ]
  },
  {
   "cell_type": "markdown",
   "metadata": {},
   "source": [
    "# 5-MVC"
   ]
  },
  {
   "cell_type": "code",
   "execution_count": 10,
   "metadata": {},
   "outputs": [],
   "source": [
    "class DataModel:\n",
    "    def __init__(self):\n",
    "        self.data = \"Initial Data\"\n",
    "\n",
    "    def update_data(self, new_data):\n",
    "        self.data = new_data"
   ]
  },
  {
   "cell_type": "code",
   "execution_count": 11,
   "metadata": {},
   "outputs": [],
   "source": [
    "import tkinter as tk\n",
    "\n",
    "class DataView(tk.Frame):\n",
    "    def __init__(self, master, controller):\n",
    "        tk.Frame.__init__(self, master)\n",
    "        self.master = master\n",
    "        self.controller = controller\n",
    "        self.create_widgets()\n",
    "\n",
    "    def create_widgets(self):\n",
    "        self.label = tk.Label(self, text=\"Data: \")\n",
    "        self.label.pack()\n",
    "\n",
    "        self.data_label = tk.Label(self, text=\"\")\n",
    "        self.data_label.pack()\n",
    "\n",
    "        self.entry = tk.Entry(self)\n",
    "        self.entry.pack()\n",
    "\n",
    "        self.update_button = tk.Button(self, text=\"Update Data\", command=self.update_data)\n",
    "        self.update_button.pack()\n",
    "\n",
    "    def update_data(self):\n",
    "        new_data = self.entry.get()\n",
    "        self.controller.update_model(new_data)\n",
    "        self.data_label.config(text=self.controller.get_data())\n",
    "\n",
    "    def update_display(self, data):\n",
    "        self.data_label.config(text=data)"
   ]
  },
  {
   "cell_type": "code",
   "execution_count": 12,
   "metadata": {},
   "outputs": [],
   "source": [
    "class DataController:\n",
    "    def __init__(self, model, view):\n",
    "        self.model = model\n",
    "        self.view = view\n",
    "        self.view.controller = self\n",
    "\n",
    "    def update_model(self, new_data):\n",
    "        self.model.update_data(new_data)\n",
    "        self.view.update_display(self.model.data)\n",
    "\n",
    "    def get_data(self):\n",
    "        return self.model.data"
   ]
  },
  {
   "cell_type": "code",
   "execution_count": null,
   "metadata": {},
   "outputs": [],
   "source": [
    "def main():\n",
    "    root = tk.Tk()\n",
    "    root.title(\"MVC Example\")\n",
    "\n",
    "    model = DataModel()\n",
    "    view = DataView(root, None)\n",
    "    view.pack()\n",
    "\n",
    "    controller = DataController(model, view)\n",
    "    view.controller = controller\n",
    "\n",
    "    root.mainloop()\n",
    "\n",
    "if __name__ == \"__main__\":\n",
    "    main()"
   ]
  },
  {
   "cell_type": "code",
   "execution_count": null,
   "metadata": {},
   "outputs": [],
   "source": []
  }
 ],
 "metadata": {
  "kernelspec": {
   "display_name": "myenv",
   "language": "python",
   "name": "python3"
  },
  "language_info": {
   "codemirror_mode": {
    "name": "ipython",
    "version": 3
   },
   "file_extension": ".py",
   "mimetype": "text/x-python",
   "name": "python",
   "nbconvert_exporter": "python",
   "pygments_lexer": "ipython3",
   "version": "3.8.13"
  }
 },
 "nbformat": 4,
 "nbformat_minor": 2
}
