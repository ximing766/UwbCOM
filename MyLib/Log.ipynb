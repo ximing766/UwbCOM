{
 "cells": [
  {
   "cell_type": "code",
   "execution_count": 2,
   "metadata": {},
   "outputs": [],
   "source": [
    "import logging\n",
    "import threading\n",
    "import queue\n",
    "import time\n",
    "\n",
    "# 需要添加文件处理器，将日志输出到指定日志文件\n",
    "# 暂时不改动，目前UWBCom并不会因为日志的原因有很大的影响，暂不改动为一下模式\n",
    "class Log:\n",
    "    def __init__(self, name, level=logging.INFO):\n",
    "        self.logger = logging.getLogger(name)\n",
    "        self.logger.setLevel(level)\n",
    "        self.log_queue = queue.Queue()\n",
    "        self.logger_thread = threading.Thread(target=self.log_thread)\n",
    "        self.logger_thread.daemon = True  # 设置为守护线程，以便主程序退出时日志线程也能退出\n",
    "        self.logger_thread.start()\n",
    "    def log_thread(self):\n",
    "        while True:\n",
    "            record = self.log_queue.get()   # 从队列中取出日志信息\n",
    "            if record is None:\n",
    "                break\n",
    "            if self.logger.hasHandlers():\n",
    "                self.logger.info(record)\n",
    "            else:\n",
    "                print(record)\n",
    "            self.log_queue.task_done()\n",
    "\n",
    "    def info(self, message):\n",
    "        self.log_queue.put(message)         # 将日志信息放入队列\n",
    "\n",
    "    def stop(self):\n",
    "        self.log_queue.put(None)\n",
    "        self.logger_thread.join()"
   ]
  },
  {
   "cell_type": "code",
   "execution_count": 2,
   "metadata": {},
   "outputs": [],
   "source": [
    "import tkinter as tk\n",
    "from tkinter import messagebox\n",
    "\n",
    "class TkinterApp:\n",
    "    def __init__(self, master, log):\n",
    "        self.master = master\n",
    "        self.log = log\n",
    "        self.master.title(\"Tkinter App with Logging\")\n",
    "\n",
    "        self.button = tk.Button(master, text=\"Log Message\", command=self.log_message)\n",
    "        self.button.pack()\n",
    "\n",
    "    def log_message(self):\n",
    "        self.log.info(\"Button clicked\")\n",
    "        messagebox.showinfo(\"Info\", \"Log message sent\")\n",
    "\n",
    "\n",
    "if __name__ == \"__main__\":\n",
    "    root = tk.Tk()\n",
    "    log = Log(\"TkinterAppLogger\")\n",
    "\n",
    "    app = TkinterApp(root, log)\n",
    "\n",
    "    root.mainloop()\n",
    "\n",
    "    log.stop()"
   ]
  },
  {
   "cell_type": "code",
   "execution_count": 5,
   "metadata": {},
   "outputs": [
    {
     "data": {
      "text/plain": [
       "'2025-01-03-10-36-22'"
      ]
     },
     "execution_count": 5,
     "metadata": {},
     "output_type": "execute_result"
    }
   ],
   "source": [
    "import time\n",
    "time.strftime(\"%Y-%m-%d-%H-%M-%S\")"
   ]
  },
  {
   "cell_type": "code",
   "execution_count": null,
   "metadata": {},
   "outputs": [],
   "source": []
  }
 ],
 "metadata": {
  "kernelspec": {
   "display_name": "myenv",
   "language": "python",
   "name": "python3"
  },
  "language_info": {
   "codemirror_mode": {
    "name": "ipython",
    "version": 3
   },
   "file_extension": ".py",
   "mimetype": "text/x-python",
   "name": "python",
   "nbconvert_exporter": "python",
   "pygments_lexer": "ipython3",
   "version": "3.8.13"
  }
 },
 "nbformat": 4,
 "nbformat_minor": 2
}
