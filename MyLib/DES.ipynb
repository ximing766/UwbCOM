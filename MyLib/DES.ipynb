{
 "cells": [
  {
   "cell_type": "markdown",
   "metadata": {},
   "source": [
    "# DES"
   ]
  },
  {
   "cell_type": "markdown",
   "metadata": {},
   "source": []
  },
  {
   "cell_type": "code",
   "execution_count": 35,
   "metadata": {},
   "outputs": [],
   "source": [
    "from Crypto.Cipher import DES\n",
    "from Crypto.Cipher import DES3\n",
    "from Crypto.Util.Padding import pad, unpad\n",
    "from Crypto.Random import get_random_bytes"
   ]
  },
  {
   "cell_type": "code",
   "execution_count": 36,
   "metadata": {},
   "outputs": [],
   "source": [
    "def des_encrypt(key, plaintext):\n",
    "    cipher = DES.new(key, DES.MODE_ECB)\n",
    "    padded_plaintext = pad(plaintext, DES.block_size)\n",
    "    ciphertext = cipher.encrypt(padded_plaintext)\n",
    "    return ciphertext\n",
    "\n",
    "def des_decrypt(key, ciphertext):\n",
    "    cipher = DES.new(key, DES.MODE_ECB)\n",
    "    padded_plaintext = cipher.decrypt(ciphertext)\n",
    "    plaintext = unpad(padded_plaintext, DES.block_size)\n",
    "    return plaintext\n",
    "\n",
    "def des3_encrypt(key, plaintext):\n",
    "    cipher = DES3.new(key, DES3.MODE_ECB)\n",
    "    padded_text = pad(plaintext, DES3.block_size)\n",
    "    return cipher.encrypt(padded_text)\n",
    "\n",
    "def des3_decrypt(key, ciphertext):\n",
    "    cipher = DES3.new(key, DES3.MODE_ECB)\n",
    "    decrypted_padded_text = cipher.decrypt(ciphertext)\n",
    "    return unpad(decrypted_padded_text, DES3.block_size)"
   ]
  },
  {
   "cell_type": "code",
   "execution_count": 55,
   "metadata": {},
   "outputs": [],
   "source": [
    "from datetime import datetime\n",
    "\n",
    "def str_xor(s1, s2):\n",
    "    bytes1 = bytes.fromhex(s1)\n",
    "    bytes2 = bytes.fromhex(s2)\n",
    "    xor_result = bytes(a ^ b for a, b in zip(bytes1, bytes2))\n",
    "    return xor_result.hex().upper()\n",
    "\n",
    "def xor_arrays(a, b):\n",
    "    return bytes([x ^ y for x, y in zip(a, b)])\n",
    "\n",
    "    \n",
    "def process_macdata(key, macdata):\n",
    "    iv = b'\\x00' * 8\n",
    "    des = bytearray(8)\n",
    "    num_blocks = len(macdata) // 8\n",
    "    for i in range(num_blocks):\n",
    "        part = macdata[i * 8:(i + 1) * 8]\n",
    "        if i == 0:\n",
    "            part = xor_arrays(part, iv)\n",
    "            des[:] = des_encrypt(key, part)\n",
    "        else:\n",
    "            part = xor_arrays(des, part)\n",
    "            des[:] = des_encrypt(key, part)\n",
    "    return bytes(des)\n",
    "\n",
    "current_time = datetime.now()\n",
    "DateTime = current_time.strftime(\"%Y%m%d%H%M%S\")\n",
    "DateTime = \"20250123172635\"\n",
    "defaultKey = bytes.fromhex(\"32D464AC81F1640A687D023BF99E35DF\")\n",
    "posId      = \"040900010001\"\n",
    "CardNo = \"03104870494120264165\"\n",
    "OnlineSeqNo = \"0445\"\n",
    "RandomNo = \"A98AA3F7\"\n",
    "factor = CardNo[-16:]\n",
    "tradeMoney = \"00000000\"\n",
    "macdata = tradeMoney + \"09\" + posId + DateTime + \"80\" + \"0000000000\"\n",
    "macdata = bytes.fromhex(macdata)"
   ]
  },
  {
   "cell_type": "code",
   "execution_count": 56,
   "metadata": {},
   "outputs": [
    {
     "name": "stdout",
     "output_type": "stream",
     "text": [
      "XOR Result: B78FB6BEDFD9BE9A\n",
      "Factor: 4870494120264165b78fb6bedfd9be9a\n"
     ]
    }
   ],
   "source": [
    "\n",
    "xor_result = str_xor(factor, \"FFFFFFFFFFFFFFFF\")\n",
    "factor = factor + xor_result\n",
    "factor = bytes.fromhex(factor)\n",
    "print(\"XOR Result:\", xor_result)\n",
    "print(\"Factor:\", factor.hex())"
   ]
  },
  {
   "cell_type": "code",
   "execution_count": 57,
   "metadata": {},
   "outputs": [
    {
     "name": "stdout",
     "output_type": "stream",
     "text": [
      "Load Key: 6e5583005783a27c913e6fb763b959ba\n",
      "Session Key: b38be96346175ec8\n"
     ]
    }
   ],
   "source": [
    "loadKey = des3_encrypt(defaultKey, factor)[:16]\n",
    "print(\"Load Key:\", loadKey.hex())\n",
    "sessionKey = des3_encrypt(loadKey, bytes.fromhex(RandomNo + OnlineSeqNo + \"0001\"))[:8]\n",
    "print(\"Session Key:\", sessionKey.hex())"
   ]
  },
  {
   "cell_type": "code",
   "execution_count": 58,
   "metadata": {},
   "outputs": [
    {
     "data": {
      "text/plain": [
       "'3b94fe09'"
      ]
     },
     "execution_count": 58,
     "metadata": {},
     "output_type": "execute_result"
    }
   ],
   "source": [
    "Mac = process_macdata(sessionKey, macdata)[:4].hex()\n",
    "Mac"
   ]
  },
  {
   "cell_type": "code",
   "execution_count": null,
   "metadata": {},
   "outputs": [],
   "source": []
  }
 ],
 "metadata": {
  "kernelspec": {
   "display_name": "myenv",
   "language": "python",
   "name": "python3"
  },
  "language_info": {
   "codemirror_mode": {
    "name": "ipython",
    "version": 3
   },
   "file_extension": ".py",
   "mimetype": "text/x-python",
   "name": "python",
   "nbconvert_exporter": "python",
   "pygments_lexer": "ipython3",
   "version": "3.8.13"
  }
 },
 "nbformat": 4,
 "nbformat_minor": 2
}
