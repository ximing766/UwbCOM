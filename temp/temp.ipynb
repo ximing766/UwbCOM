{
 "cells": [
  {
   "cell_type": "code",
   "execution_count": 1,
   "metadata": {},
   "outputs": [
    {
     "name": "stdout",
     "output_type": "stream",
     "text": [
      "deque([2, 3, 4, 5, 6], maxlen=5)\n"
     ]
    }
   ],
   "source": [
    "from collections import deque\n",
    "import numpy as np\n",
    "\n",
    "# 创建一个最大长度为5的deque\n",
    "dq = deque(maxlen=5)\n",
    "dq.append(1)\n",
    "dq.append(2)\n",
    "dq.append(3)\n",
    "dq.append(4)\n",
    "dq.append(5)\n",
    "# 此时再添加元素，最老的元素（1）将被移除\n",
    "dq.append(6)\n",
    "print(dq)  # 输出: deque([2, 3, 4, 5, 6], maxlen=5)"
   ]
  },
  {
   "cell_type": "code",
   "execution_count": 2,
   "metadata": {},
   "outputs": [],
   "source": [
    "import customtkinter\n",
    "from customtkinter import CTk\n",
    "\n",
    "app = customtkinter.CTk()\n",
    "app.geometry(\"600x600\")\n",
    "\n",
    "def checkbox_event():\n",
    "    print(\"checkbox toggled, current value:\", check_var.get())\n",
    "\n",
    "check_var = customtkinter.StringVar(value=\"on\")\n",
    "checkbox = customtkinter.CTkCheckBox(app, text=\"CTkCheckBox\", command=checkbox_event,\n",
    "                                     variable=check_var, onvalue=\"on\", offvalue=\"off\")\n",
    "def combobox_callback(choice):\n",
    "    print(\"combobox dropdown clicked:\", choice)\n",
    "\n",
    "combobox = customtkinter.CTkComboBox(app, values=[\"option 1\", \"option 2\"],\n",
    "                                     command=combobox_callback)\n",
    "combobox.set(\"option 2\")\n",
    "\n",
    "def optionmenu_callback(choice):\n",
    "    print(\"optionmenu dropdown clicked:\", choice)\n",
    "\n",
    "optionmenu_var = customtkinter.StringVar(value=\"option 2\")\n",
    "optionmenu = customtkinter.CTkOptionMenu(app,values=[\"option 1\", \"option 2\"],\n",
    "                                         command=optionmenu_callback,\n",
    "                                         variable=optionmenu_var)\n",
    "customtkinter.CTkCanvas(app, width=200, height=200, bg=\"blue\").pack()\n",
    "progressbar = customtkinter.CTkProgressBar(app, orientation=\"horizontal\")\n",
    "\n",
    "def segmented_button_callback(value):\n",
    "    print(\"segmented button clicked:\", value)\n",
    "\n",
    "segemented_button = customtkinter.CTkSegmentedButton(app, values=[\"Value 1\", \"Value 2\", \"Value 3\"],\n",
    "                                                     command=segmented_button_callback)\n",
    "segemented_button.set(\"Value 1\")\n",
    "\n",
    "def switch_event():\n",
    "    print(\"switch toggled, current value:\", switch_var.get())\n",
    "\n",
    "switch_var = customtkinter.StringVar(value=\"on\")\n",
    "switch = customtkinter.CTkSwitch(app, text=\"CTkSwitch\", command=switch_event,\n",
    "                                 variable=switch_var, onvalue=\"on\", offvalue=\"off\")\n",
    "switch.pack()\n",
    "segemented_button.pack()\n",
    "progressbar.pack()\n",
    "optionmenu.pack()\n",
    "combobox.pack()\n",
    "checkbox.pack()  # 添加这行代码将复选框添加到窗口中\n",
    "\n",
    "app.mainloop()"
   ]
  },
  {
   "cell_type": "code",
   "execution_count": 6,
   "metadata": {},
   "outputs": [
    {
     "name": "stdout",
     "output_type": "stream",
     "text": [
      "segmented button clicked: Value 2\n",
      "segmented button clicked: Value 3\n"
     ]
    }
   ],
   "source": [
    "import customtkinter\n",
    "from customtkinter import CTk\n",
    "\n",
    "app = customtkinter.CTk()\n",
    "app.geometry(\"600x600\")\n",
    "def segmented_button_callback(value):\n",
    "    print(\"segmented button clicked:\", value)\n",
    "\n",
    "segemented_button = customtkinter.CTkSegmentedButton(app, values=[\"Value 1\", \"Value 2\", \"Value 3\"],\n",
    "                                                     command=segmented_button_callback)\n",
    "segemented_button.set(\"Value 1\")\n",
    "segemented_button.pack()\n",
    "app.mainloop()"
   ]
  },
  {
   "cell_type": "code",
   "execution_count": 7,
   "metadata": {},
   "outputs": [],
   "source": [
    "import tkinter as tk\n",
    "\n",
    "def on_button_click():\n",
    "    print(\"自定义按钮被点击了\")\n",
    "\n",
    "root = tk.Tk()\n",
    "root.title(\"窗口标题\")\n",
    "\n",
    "# 创建一个按钮并放置在窗口的标题栏旁边\n",
    "custom_button = tk.Button(root, text=\"自定义按钮\", command=on_button_click)\n",
    "custom_button.place(x=0, y=0)  # 根据需要调整位置\n",
    "\n",
    "root.mainloop()"
   ]
  },
  {
   "cell_type": "code",
   "execution_count": 1,
   "metadata": {},
   "outputs": [],
   "source": [
    "ll = [0x00,0x00,0xFF,0xA7,0x00,0x05,0xFF,0xFF,0xFF,0xFF,0xFF,0x06,0xFF,0xFF,0xFF,0xFF,0xFF,0x28,0xC2,0x02,0x11,0x80,0x50,0x03,0x02,0x0B,0x01,0x00,0x00,0x00,0x01,0x04,0x09,0x00,0x01,0x00,0x01,0x0F,0x85,0x80,0xDC,0x12,0xD0,0x80,0x27,0x12,0x7D,0x01,0x01,0x00,0x00,0x00,0x00,0x00,0x00,0x00,0x00,0x00,0x00,0x00,0x00,0x00,0x00,0x00,0x00,0x00,0x00,0x00,0x00,0x00,0x00,0x00,0x00,0x00,0x00,0x00,0x00,0x00,0x00,0x00,0x00,0x00,0x00,0x00,0x00,0x00,0x00,0x00,0x00,0x00,0x00,0x00,0x00,0x00,0x00,0x00,0x00,0x00,0x00,0x00,0x00,0x00,0x00,0x00,0x00,0x00,0x00,0x00,0x00,0x00,0x00,0x00,0x00,0x00,0x00,0x00,0x00,0x00,0x00,0x00,0x00,0x00,0x00,0x00,0x00,0x00,0x00,0x00,0x00,0x00,0x00,0x00,0x00,0x00,0x00,0x00,0x00,0x00,0x00,0x00,0x00,0x00,0x00,0x00,0x19,0x01,0x02,0x3B,0x72,0x27,0x00,0x00,0x00,0x00,0x00,0x00,0x00,0x00,0x00,0x00,0x00,0x00,0x00,0x00,0x00,0x00,0x00,0x17,0x00,0x00,0x00,0xFF,0xA7,0x00]"
   ]
  },
  {
   "cell_type": "code",
   "execution_count": 6,
   "metadata": {},
   "outputs": [
    {
     "data": {
      "text/plain": [
       "167"
      ]
     },
     "execution_count": 6,
     "metadata": {},
     "output_type": "execute_result"
    }
   ],
   "source": [
    "ll[172]"
   ]
  },
  {
   "cell_type": "code",
   "execution_count": null,
   "metadata": {},
   "outputs": [],
   "source": []
  }
 ],
 "metadata": {
  "kernelspec": {
   "display_name": "myenv",
   "language": "python",
   "name": "python3"
  },
  "language_info": {
   "codemirror_mode": {
    "name": "ipython",
    "version": 3
   },
   "file_extension": ".py",
   "mimetype": "text/x-python",
   "name": "python",
   "nbconvert_exporter": "python",
   "pygments_lexer": "ipython3",
   "version": "3.8.13"
  }
 },
 "nbformat": 4,
 "nbformat_minor": 2
}
