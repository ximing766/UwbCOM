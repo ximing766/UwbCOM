{
 "cells": [
  {
   "cell_type": "code",
   "execution_count": 5,
   "metadata": {},
   "outputs": [
    {
     "name": "stdout",
     "output_type": "stream",
     "text": [
      "https://api.github.com/repos/ximing766/UwbCOM/releases/latest\n",
      "Latest version: v1.4\n"
     ]
    }
   ],
   "source": [
    "import requests\n",
    "\n",
    "# GitHub API URL\n",
    "url = \"https://api.github.com/repos/{owner}/{repo}/releases/latest\"\n",
    "\n",
    "# 替换为你的GitHub用户名和仓库名\n",
    "owner = \"ximing766\"\n",
    "repo = \"UwbCOM\"\n",
    "print(url.format(owner=owner, repo=repo))\n",
    "# 发送GET请求\n",
    "response = requests.get(url.format(owner=owner, repo=repo))\n",
    "\n",
    "# 检查请求是否成功\n",
    "if response.status_code == 200:\n",
    "    # 解析JSON数据\n",
    "    release_data = response.json()\n",
    "    # 获取最新版本号\n",
    "    latest_version = release_data['tag_name']\n",
    "    print(f\"Latest version: {latest_version}\")\n",
    "else:\n",
    "    print(\"Failed to retrieve release data\")"
   ]
  },
  {
   "cell_type": "code",
   "execution_count": 7,
   "metadata": {},
   "outputs": [
    {
     "name": "stdout",
     "output_type": "stream",
     "text": [
      "New version available\n"
     ]
    }
   ],
   "source": [
    "from packaging import version\n",
    "current_version = \"1.0.0\"\n",
    "latest_version = release_data['tag_name']\n",
    "if version.parse(latest_version) > version.parse(current_version):\n",
    "    print(\"New version available\")\n",
    "else:\n",
    "    print(\"You are using the latest version\")"
   ]
  },
  {
   "cell_type": "code",
   "execution_count": 9,
   "metadata": {},
   "outputs": [
    {
     "name": "stdout",
     "output_type": "stream",
     "text": [
      "Download URL: https://github.com/ximing766/UwbCOM/releases/download/v1.4/UWBCOM_V1.4.exe\n",
      "Downloaded UWBCOM_V1.4.exe\n"
     ]
    }
   ],
   "source": [
    "for asset in release_data['assets']:\n",
    "    download_url = asset['browser_download_url']\n",
    "    print(f\"Download URL: {download_url}\")\n",
    "    response = requests.get(download_url, stream=True)\n",
    "    if response.status_code == 200:\n",
    "        with open(asset['name'], 'wb') as file:\n",
    "            for chunk in response.iter_content(chunk_size=8192):\n",
    "                file.write(chunk)\n",
    "        print(f\"Downloaded {asset['name']}\")\n",
    "    else:\n",
    "        print(f\"Failed to download {asset['name']}\")"
   ]
  },
  {
   "cell_type": "code",
   "execution_count": null,
   "metadata": {},
   "outputs": [],
   "source": []
  }
 ],
 "metadata": {
  "kernelspec": {
   "display_name": "myenv",
   "language": "python",
   "name": "python3"
  },
  "language_info": {
   "codemirror_mode": {
    "name": "ipython",
    "version": 3
   },
   "file_extension": ".py",
   "mimetype": "text/x-python",
   "name": "python",
   "nbconvert_exporter": "python",
   "pygments_lexer": "ipython3",
   "version": "3.8.13"
  }
 },
 "nbformat": 4,
 "nbformat_minor": 2
}
