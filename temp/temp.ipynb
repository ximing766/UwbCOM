{
 "cells": [
  {
   "cell_type": "code",
   "execution_count": 19,
   "metadata": {},
   "outputs": [
    {
     "name": "stdout",
     "output_type": "stream",
     "text": [
      "deque([2, 3, 4, 5, 6], maxlen=5)\n"
     ]
    }
   ],
   "source": [
    "from collections import deque\n",
    "import numpy as np\n",
    "\n",
    "# 创建一个最大长度为5的deque\n",
    "dq = deque(maxlen=5)\n",
    "dq.append(1)\n",
    "dq.append(2)\n",
    "dq.append(3)\n",
    "dq.append(4)\n",
    "dq.append(5)\n",
    "# 此时再添加元素，最老的元素（1）将被移除\n",
    "dq.append(6)\n",
    "print(dq)  # 输出: deque([2, 3, 4, 5, 6], maxlen=5)"
   ]
  },
  {
   "cell_type": "code",
   "execution_count": 1,
   "metadata": {},
   "outputs": [
    {
     "name": "stdout",
     "output_type": "stream",
     "text": [
      "32.0\n",
      "212.0\n",
      "122.0\n"
     ]
    }
   ],
   "source": [
    "def ChangeDataScale(data,m,n):\n",
    "    return data * m + n\n",
    "\n",
    "l1 = [0,100]\n",
    "l2 = [32,212]\n",
    "m = (l2[1]-l2[0])/(l1[1]-l1[0])\n",
    "n = l2[0] - m*l1[0]\n",
    "print(ChangeDataScale(0,m,n))\n",
    "print(ChangeDataScale(100,m,n))\n",
    "print(ChangeDataScale(50,m,n))"
   ]
  },
  {
   "cell_type": "code",
   "execution_count": 2,
   "metadata": {},
   "outputs": [
    {
     "name": "stdout",
     "output_type": "stream",
     "text": [
      "Button clicked!\n",
      "Button clicked!\n",
      "Button clicked!\n",
      "Button clicked!\n",
      "Button clicked!\n",
      "Button clicked!\n"
     ]
    }
   ],
   "source": [
    "import tkinter as tk\n",
    "\n",
    "def on_button_click(event):\n",
    "    print(\"Button clicked!\")\n",
    "\n",
    "root = tk.Tk()\n",
    "\n",
    "canvas = tk.Canvas(root, width=200, height=200)\n",
    "canvas.pack()\n",
    "\n",
    "# 绘制一个矩形作为按钮\n",
    "button = canvas.create_rectangle(50, 50, 150, 100, fill=\"blue\")\n",
    "\n",
    "# 在按钮上绘制文字\n",
    "text = canvas.create_text(100, 75, text=\"Click Me\", fill=\"white\")\n",
    "\n",
    "# 绑定鼠标点击事件到矩形上\n",
    "canvas.tag_bind(button, \"<Button-1>\", on_button_click)\n",
    "\n",
    "root.mainloop()"
   ]
  },
  {
   "cell_type": "code",
   "execution_count": null,
   "metadata": {},
   "outputs": [],
   "source": []
  }
 ],
 "metadata": {
  "kernelspec": {
   "display_name": "myenv",
   "language": "python",
   "name": "python3"
  },
  "language_info": {
   "codemirror_mode": {
    "name": "ipython",
    "version": 3
   },
   "file_extension": ".py",
   "mimetype": "text/x-python",
   "name": "python",
   "nbconvert_exporter": "python",
   "pygments_lexer": "ipython3",
   "version": "3.8.13"
  }
 },
 "nbformat": 4,
 "nbformat_minor": 2
}
