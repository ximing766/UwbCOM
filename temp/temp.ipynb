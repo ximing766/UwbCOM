{
 "cells": [
  {
   "cell_type": "code",
   "execution_count": 1,
   "metadata": {},
   "outputs": [
    {
     "name": "stdout",
     "output_type": "stream",
     "text": [
      "deque([2, 3, 4, 5, 6], maxlen=5)\n"
     ]
    }
   ],
   "source": [
    "from collections import deque\n",
    "import numpy as np\n",
    "\n",
    "# 创建一个最大长度为5的deque\n",
    "dq = deque(maxlen=5)\n",
    "dq.append(1)\n",
    "dq.append(2)\n",
    "dq.append(3)\n",
    "dq.append(4)\n",
    "dq.append(5)\n",
    "# 此时再添加元素，最老的元素（1）将被移除\n",
    "dq.append(6)\n",
    "print(dq)  # 输出: deque([2, 3, 4, 5, 6], maxlen=5)"
   ]
  },
  {
   "cell_type": "code",
   "execution_count": 2,
   "metadata": {},
   "outputs": [],
   "source": [
    "import customtkinter\n",
    "from customtkinter import CTk\n",
    "\n",
    "app = customtkinter.CTk()\n",
    "app.geometry(\"600x600\")\n",
    "\n",
    "def checkbox_event():\n",
    "    print(\"checkbox toggled, current value:\", check_var.get())\n",
    "\n",
    "check_var = customtkinter.StringVar(value=\"on\")\n",
    "checkbox = customtkinter.CTkCheckBox(app, text=\"CTkCheckBox\", command=checkbox_event,\n",
    "                                     variable=check_var, onvalue=\"on\", offvalue=\"off\")\n",
    "def combobox_callback(choice):\n",
    "    print(\"combobox dropdown clicked:\", choice)\n",
    "\n",
    "combobox = customtkinter.CTkComboBox(app, values=[\"option 1\", \"option 2\"],\n",
    "                                     command=combobox_callback)\n",
    "combobox.set(\"option 2\")\n",
    "\n",
    "def optionmenu_callback(choice):\n",
    "    print(\"optionmenu dropdown clicked:\", choice)\n",
    "\n",
    "optionmenu_var = customtkinter.StringVar(value=\"option 2\")\n",
    "optionmenu = customtkinter.CTkOptionMenu(app,values=[\"option 1\", \"option 2\"],\n",
    "                                         command=optionmenu_callback,\n",
    "                                         variable=optionmenu_var)\n",
    "customtkinter.CTkCanvas(app, width=200, height=200, bg=\"blue\").pack()\n",
    "progressbar = customtkinter.CTkProgressBar(app, orientation=\"horizontal\")\n",
    "\n",
    "def segmented_button_callback(value):\n",
    "    print(\"segmented button clicked:\", value)\n",
    "\n",
    "segemented_button = customtkinter.CTkSegmentedButton(app, values=[\"Value 1\", \"Value 2\", \"Value 3\"],\n",
    "                                                     command=segmented_button_callback)\n",
    "segemented_button.set(\"Value 1\")\n",
    "\n",
    "def switch_event():\n",
    "    print(\"switch toggled, current value:\", switch_var.get())\n",
    "\n",
    "switch_var = customtkinter.StringVar(value=\"on\")\n",
    "switch = customtkinter.CTkSwitch(app, text=\"CTkSwitch\", command=switch_event,\n",
    "                                 variable=switch_var, onvalue=\"on\", offvalue=\"off\")\n",
    "switch.pack()\n",
    "segemented_button.pack()\n",
    "progressbar.pack()\n",
    "optionmenu.pack()\n",
    "combobox.pack()\n",
    "checkbox.pack()  # 添加这行代码将复选框添加到窗口中\n",
    "\n",
    "app.mainloop()"
   ]
  },
  {
   "cell_type": "code",
   "execution_count": 16,
   "metadata": {},
   "outputs": [],
   "source": [
    "data = [[0, 1, 1, 48, 42, 100, 0, 0, 0, -28], [1, 1, 1, 54, 52, 100, 0, 0, 0, -30], [2, 1, 1, 48, 34, 100, 0, 0, 0, -23], [3, 1, 1, 46, 35, 100, 0, 0, 0, -25], [4, 1, 1, 56, 38, 100, 0, 0, 0, -32], [5, 1, 1, 60, 41, 100, 0, 0, 0, -37], [6, 1, 1, 59, 43, 100, 0, 0, 0, -39], [7, 1, 1, 46, 38, 100, 0, 0, 0, -33], [8, 1, 1, 43, 36, 100, 0, 0, 0, -29], [9, 1, 1, 41, 38, 100, 0, 0, 0, -26], [10, 1, 1, 36, 35, 100, 0, 0, 0, -22], [11, 1, 1, 44, 32, 100, 0, 0, 0, -23], [12, 1, 1, 39, 35, 100, 0, 0, 0, -23], [13, 1, 1, 37, 41, 100, 0, 0, 0, -21], [14, 1, 1, 37, 40, 100, 0, 0, 0, -17], [15, 1, 1, 50, 42, 100, 0, 0, 0, -21], [16, 1, 1, 49, 41, 100, 0, 0, 0, -22], [17, 1, 1, 41, 46, 100, 0, 0, 0, -20], [18, 1, 1, 39, 40, 100, 0, 0, 0, -15], [19, 1, 1, 43, 39, 100, 0, 0, 0, -16], [20, 1, 1, 39, 41, 100, 0, 0, 0, -16], [21, 1, 1, 42, 45, 100, 0, 0, 0, -16], [22, 1, 1, 42, 45, 100, 0, 0, 0, -14], [23, 1, 1, 42, 43, 100, 0, 0, 0, -12], [24, 1, 1, 39, 39, 100, 0, 0, 0, -11], [25, 1, 1, 37, 44, 100, 0, 0, 0, -11], [31, 2, 1, 51, 38, 100, 0, 0, 0, -26], [32, 2, 1, 53, 41, 100, 0, 0, 0, -31], [26, 1, 1, 35, 40, 100, 0, 0, 0, -9], [27, 1, 1, 43, 43, 100, 0, 0, 0, -12], [28, 1, 1, 35, 44, 100, 0, 0, 0, -9], [29, 1, 1, 37, 44, 100, 0, 0, 0, -8], [30, 2, 0, 0, 37, 100, 0, 0, 0, 0], [33, 2, 1, 41, 39, 100, 0, 0, 0, -20], [34, 2, 1, 43, 38, 100, 0, 0, 0, -20], [35, 2, 1, 45, 36, 100, 0, 0, 0, -21], [36, 2, 1, 44, 35, 100, 0, 0, 0, -22], [37, 2, 1, 31, 38, 100, 0, 0, 0, -18], [38, 2, 1, 38, 44, 100, 0, 0, 0, -17], [39, 2, 1, 46, 46, 100, 0, 0, 0, -17], [40, 2, 1, 43, 46, 100, 0, 0, 0, -15], [41, 2, 1, 34, 40, 100, 0, 0, 0, -10], [42, 2, 1, 39, 40, 100, 0, 0, 0, -11], [43, 2, 1, 39, 43, 100, 0, 0, 0, -11], [44, 2, 1, 27, 45, 100, 0, 0, 0, -6], [45, 2, 1, 30, 39, 100, 0, 0, 0, -3], [46, 2, 1, 41, 38, 100, 0, 0, 0, -7], [47, 2, 1, 38, 37, 100, 0, 0, 0, -10], [48, 2, 1, 33, 38, 100, 0, 0, 0, -10], [49, 2, 1, 49, 30, 100, 0, 0, 0, -16], [50, 2, 1, 43, 34, 100, 0, 0, 0, -20], [51, 2, 1, 51, 30, 100, 0, 0, 0, -26], [52, 2, 1, 52, 31, 100, 0, 0, 0, -32], [53, 2, 1, 47, 33, 100, 0, 0, 0, -33], [54, 2, 1, 47, 43, 100, 0, 0, 0, -33], [55, 2, 1, 50, 41, 100, 0, 0, 0, -30], [56, 2, 1, 42, 44, 100, 0, 0, 0, -25], [57, 2, 1, 35, 45, 100, 0, 0, 0, -18], [58, 2, 1, 44, 48, 100, 0, 0, 0, -16]]"
   ]
  },
  {
   "cell_type": "code",
   "execution_count": 30,
   "metadata": {},
   "outputs": [
    {
     "ename": "TclError",
     "evalue": "image \"pyimage1\" doesn't exist",
     "output_type": "error",
     "traceback": [
      "\u001b[1;31m---------------------------------------------------------------------------\u001b[0m",
      "\u001b[1;31mTclError\u001b[0m                                  Traceback (most recent call last)",
      "\u001b[1;32m~\\AppData\\Local\\Temp\\ipykernel_39680\\1680844804.py\u001b[0m in \u001b[0;36m<cell line: 16>\u001b[1;34m()\u001b[0m\n\u001b[0;32m     14\u001b[0m \u001b[0mlink_label\u001b[0m\u001b[1;33m.\u001b[0m\u001b[0mpack\u001b[0m\u001b[1;33m(\u001b[0m\u001b[0mpady\u001b[0m\u001b[1;33m=\u001b[0m\u001b[1;36m10\u001b[0m\u001b[1;33m)\u001b[0m\u001b[1;33m\u001b[0m\u001b[1;33m\u001b[0m\u001b[0m\n\u001b[0;32m     15\u001b[0m \u001b[1;31m# 创建图标\u001b[0m\u001b[1;33m\u001b[0m\u001b[1;33m\u001b[0m\u001b[1;33m\u001b[0m\u001b[0m\n\u001b[1;32m---> 16\u001b[1;33m \u001b[0micon_label\u001b[0m \u001b[1;33m=\u001b[0m \u001b[0mLabel\u001b[0m\u001b[1;33m(\u001b[0m\u001b[0mroot\u001b[0m\u001b[1;33m,\u001b[0m \u001b[0mimage\u001b[0m\u001b[1;33m=\u001b[0m\u001b[0micon\u001b[0m\u001b[1;33m)\u001b[0m\u001b[1;33m\u001b[0m\u001b[1;33m\u001b[0m\u001b[0m\n\u001b[0m\u001b[0;32m     17\u001b[0m \u001b[0micon_label\u001b[0m\u001b[1;33m.\u001b[0m\u001b[0mpack\u001b[0m\u001b[1;33m(\u001b[0m\u001b[0mpady\u001b[0m\u001b[1;33m=\u001b[0m\u001b[1;36m10\u001b[0m\u001b[1;33m)\u001b[0m\u001b[1;33m\u001b[0m\u001b[1;33m\u001b[0m\u001b[0m\n\u001b[0;32m     18\u001b[0m \u001b[1;31m# 绑定点击事件\u001b[0m\u001b[1;33m\u001b[0m\u001b[1;33m\u001b[0m\u001b[1;33m\u001b[0m\u001b[0m\n",
      "\u001b[1;32md:\\ISoftware\\anaconda\\router\\envs\\myenv\\lib\\tkinter\\__init__.py\u001b[0m in \u001b[0;36m__init__\u001b[1;34m(self, master, cnf, **kw)\u001b[0m\n\u001b[0;32m   3146\u001b[0m \u001b[1;33m\u001b[0m\u001b[0m\n\u001b[0;32m   3147\u001b[0m         \"\"\"\n\u001b[1;32m-> 3148\u001b[1;33m         \u001b[0mWidget\u001b[0m\u001b[1;33m.\u001b[0m\u001b[0m__init__\u001b[0m\u001b[1;33m(\u001b[0m\u001b[0mself\u001b[0m\u001b[1;33m,\u001b[0m \u001b[0mmaster\u001b[0m\u001b[1;33m,\u001b[0m \u001b[1;34m'label'\u001b[0m\u001b[1;33m,\u001b[0m \u001b[0mcnf\u001b[0m\u001b[1;33m,\u001b[0m \u001b[0mkw\u001b[0m\u001b[1;33m)\u001b[0m\u001b[1;33m\u001b[0m\u001b[1;33m\u001b[0m\u001b[0m\n\u001b[0m\u001b[0;32m   3149\u001b[0m \u001b[1;33m\u001b[0m\u001b[0m\n\u001b[0;32m   3150\u001b[0m \u001b[1;33m\u001b[0m\u001b[0m\n",
      "\u001b[1;32md:\\ISoftware\\anaconda\\router\\envs\\myenv\\lib\\tkinter\\__init__.py\u001b[0m in \u001b[0;36m__init__\u001b[1;34m(self, master, widgetName, cnf, kw, extra)\u001b[0m\n\u001b[0;32m   2570\u001b[0m         \u001b[1;32mfor\u001b[0m \u001b[0mk\u001b[0m\u001b[1;33m,\u001b[0m \u001b[0mv\u001b[0m \u001b[1;32min\u001b[0m \u001b[0mclasses\u001b[0m\u001b[1;33m:\u001b[0m\u001b[1;33m\u001b[0m\u001b[1;33m\u001b[0m\u001b[0m\n\u001b[0;32m   2571\u001b[0m             \u001b[1;32mdel\u001b[0m \u001b[0mcnf\u001b[0m\u001b[1;33m[\u001b[0m\u001b[0mk\u001b[0m\u001b[1;33m]\u001b[0m\u001b[1;33m\u001b[0m\u001b[1;33m\u001b[0m\u001b[0m\n\u001b[1;32m-> 2572\u001b[1;33m         self.tk.call(\n\u001b[0m\u001b[0;32m   2573\u001b[0m             (widgetName, self._w) + extra + self._options(cnf))\n\u001b[0;32m   2574\u001b[0m         \u001b[1;32mfor\u001b[0m \u001b[0mk\u001b[0m\u001b[1;33m,\u001b[0m \u001b[0mv\u001b[0m \u001b[1;32min\u001b[0m \u001b[0mclasses\u001b[0m\u001b[1;33m:\u001b[0m\u001b[1;33m\u001b[0m\u001b[1;33m\u001b[0m\u001b[0m\n",
      "\u001b[1;31mTclError\u001b[0m: image \"pyimage1\" doesn't exist"
     ]
    }
   ],
   "source": [
    "import tkinter as tk\n",
    "from PIL import Image, ImageTk\n",
    "from tkinter import Label\n",
    "import webbrowser\n",
    "\n",
    "def open_url(event):\n",
    "    webbrowser.open(\"http://www.example.com\", new=0)\n",
    "\n",
    "root = tk.Tk()\n",
    "# 加载图标\n",
    "icon = ImageTk.PhotoImage(Image.open(\"E:\\\\Work\\\\UWB\\Code\\\\UwbCOMCode\\\\PIC\\\\ICO\\\\favicon_io\\\\apple-touch-icon.png\"))\n",
    "# 创建Label\n",
    "link_label = Label(root, text=\"访问我们的网站\", fg=\"blue\", cursor=\"hand2\")\n",
    "link_label.pack(pady=10)\n",
    "# 创建图标\n",
    "icon_label = Label(root, image=icon)\n",
    "icon_label.pack(pady=10)\n",
    "# 绑定点击事件\n",
    "link_label.bind(\"<Button-1>\", open_url)\n",
    "root.mainloop()"
   ]
  },
  {
   "cell_type": "code",
   "execution_count": null,
   "metadata": {},
   "outputs": [],
   "source": []
  }
 ],
 "metadata": {
  "kernelspec": {
   "display_name": "myenv",
   "language": "python",
   "name": "python3"
  },
  "language_info": {
   "codemirror_mode": {
    "name": "ipython",
    "version": 3
   },
   "file_extension": ".py",
   "mimetype": "text/x-python",
   "name": "python",
   "nbconvert_exporter": "python",
   "pygments_lexer": "ipython3",
   "version": "3.8.13"
  }
 },
 "nbformat": 4,
 "nbformat_minor": 2
}
